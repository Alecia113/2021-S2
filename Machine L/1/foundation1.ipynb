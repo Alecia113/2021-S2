{
 "cells": [
  {
   "cell_type": "markdown",
   "id": "f914448d",
   "metadata": {},
   "source": [
    "# Printing"
   ]
  },
  {
   "cell_type": "code",
   "execution_count": 1,
   "id": "c269e71d",
   "metadata": {
    "scrolled": true
   },
   "outputs": [
    {
     "name": "stdout",
     "output_type": "stream",
     "text": [
      "5\n"
     ]
    }
   ],
   "source": [
    "print(5)"
   ]
  },
  {
   "cell_type": "code",
   "execution_count": null,
   "id": "ad5431a1",
   "metadata": {},
   "outputs": [],
   "source": [
    "#非编辑状态下按下才有用 A forward B backward\n",
    "\n",
    "print(5)"
   ]
  },
  {
   "cell_type": "code",
   "execution_count": 3,
   "id": "fcc4e479",
   "metadata": {
    "scrolled": false
   },
   "outputs": [
    {
     "name": "stdout",
     "output_type": "stream",
     "text": [
      "1 16 0.0625 text\n"
     ]
    }
   ],
   "source": [
    "print(1,16,1/16,'text')\n",
    "\n"
   ]
  },
  {
   "cell_type": "code",
   "execution_count": null,
   "id": "b82c3a7b",
   "metadata": {},
   "outputs": [],
   "source": [
    "#y: 切换成代码#Shift+M: 合并单元格#H: 查看快捷键 #M mark；#y code\n",
    "#enter 编辑； #esc 命令上下，蓝色 # 在esc下，上下切换单元格"
   ]
  },
  {
   "cell_type": "code",
   "execution_count": 7,
   "id": "f5e0d3f8",
   "metadata": {},
   "outputs": [
    {
     "name": "stdout",
     "output_type": "stream",
     "text": [
      " 1 divided by 16 is 0.062500\n",
      " 1 divided by 16 is 0\n",
      " 1 divided by 16 is 0.06\n",
      " 1 divided by 16 is 0.06 and 1 divided by 32 is 0.03\n"
     ]
    }
   ],
   "source": [
    "print( ' 1 divided by 16 is %f' % (1/16) )\n",
    "print( ' 1 divided by 16 is %d' % (1/16) ) #’‘中是introduction； 里面的%x是取值模式； 后面%+运算公式\n",
    "print( ' 1 divided by 16 is %.2f' % (1/16)) #.几x就是保留几位x模式\n",
    "print( ' 1 divided by 16 is %.2f and 1 divided by 32 is %.2f' %(1/16, 1/32)) #同一个括号里两个运算公式。前面就是两个and %\n",
    "#但是（）前面依旧是一个%"
   ]
  },
  {
   "cell_type": "markdown",
   "id": "941eb17c",
   "metadata": {},
   "source": [
    "# Numbers and Variables "
   ]
  },
  {
   "cell_type": "code",
   "execution_count": 15,
   "id": "936af7c3",
   "metadata": {},
   "outputs": [
    {
     "name": "stdout",
     "output_type": "stream",
     "text": [
      "<class 'int'>\n",
      "Welcome to xx  is  <class 'str'>\n",
      "10 is  <class 'int'>\n",
      "10.0 is <class 'float'>\n",
      "True is <class 'bool'>\n"
     ]
    }
   ],
   "source": [
    "a = 1\n",
    "type(a)\n",
    "print(type(a))\n",
    "var1 = 'Welcome to xx'\n",
    "print(var1, ' is ', type(var1)) #直接打印变量，就是里面的值； ’直接文字‘，type返回类型\n",
    "b = 10\n",
    "print(b, 'is ', type(b))\n",
    "c = 10.0\n",
    "print(c, 'is', type(c))\n",
    "d = True\n",
    "print(d, 'is', type(d))"
   ]
  },
  {
   "cell_type": "markdown",
   "id": "df91176a",
   "metadata": {},
   "source": [
    "# com+空格；jupyter notebook or lab"
   ]
  },
  {
   "cell_type": "markdown",
   "id": "4e0b757a",
   "metadata": {},
   "source": [
    "## Lists ; shift+L 显示数字行。"
   ]
  },
  {
   "cell_type": "code",
   "execution_count": 34,
   "id": "3a7ad2ce",
   "metadata": {},
   "outputs": [
    {
     "name": "stdout",
     "output_type": "stream",
     "text": [
      "seq =  [2, 10, 20, 30, 50, 80, 130, 210, 340]\n",
      "seq[0] =  2\n",
      "seq[3] =  30\n",
      "seq[3:6] =  [30, 50, 80]\n",
      "seq[3] =  [2, 10, 20]\n",
      "seq[3] =  [2, 10, 20]\n",
      "seq[-1] =  340\n",
      "seq[3:-3] =  [30, 50, 80]\n",
      "9\n",
      "[2, 10, 20, 30, 50, 80, 130, 210, 340, 999]\n",
      "10\n",
      "[2, 10, 20, 30, 50, 80, 130, 210, 340, 999, -1]\n",
      "[-1, 2, 10, 20, 30, 50, 80, 130, 210, 340, 999]\n",
      "[999, 340, 210, 130, 80, 50, 30, 20, 10, 2, -1]\n"
     ]
    }
   ],
   "source": [
    "seq = [2, 10, 20, 30, 50, 80, 130, 210, 340]\n",
    "\n",
    "print('seq = ', seq)\n",
    "print('seq[0] = ', seq[0])\n",
    "print('seq[3] = ', seq[3])\n",
    "print('seq[3:6] = ', seq[3:6]) #%%!包前不包后\n",
    "print('seq[3] = ', seq[0:3])\n",
    "print('seq[3] = ', seq[:3]) #:前开始， 0 == 空\n",
    "print('seq[-1] = ', seq[-1]) #最后一个是-1\n",
    "print('seq[3:-3] = ', seq[3:-3])\n",
    "\n",
    "print(len(seq)) #len()\n",
    "seq.append(999) #new\n",
    "print(seq)\n",
    "print(len(seq))\n",
    "\n",
    "# .sort()\n",
    "seq.append(-1)\n",
    "print(seq)\n",
    "seq.sort()\n",
    "print(seq)\n",
    "\n",
    "\n",
    "# .count() 查询次数\n",
    "\n",
    "seq.count(10)\n",
    "\n",
    "#.reverse() 倒叙\n",
    "\n",
    "seq.reverse()\n",
    "print(seq)"
   ]
  },
  {
   "cell_type": "code",
   "execution_count": 25,
   "id": "304db6b1",
   "metadata": {},
   "outputs": [
    {
     "name": "stdout",
     "output_type": "stream",
     "text": [
      "['Banana', 'Cantaloupe', 'Apple', 'Tomato']\n",
      "['Banana', 'Cantaloupe', 'Apple']\n",
      "['Banana', 'Cantaloupe', 'Apple', 'Papaya']\n",
      "['Banana', 'Cantaloupe', 'Apple', 'Papaya', 'Grapes']\n",
      "False\n",
      "['Banana', 'Cantaloupe', 'Apple', 'Papaya', 'Grapes', 'Strawberry']\n",
      "True\n",
      "['Apple', 'Banana', 'Cantaloupe', 'Grapes', 'Papaya', 'Strawberry']\n"
     ]
    }
   ],
   "source": [
    "fruitSalad = ['Banana', 'Cantaloupe', 'Apple', 'Tomato']\n",
    "print(fruitSalad)\n",
    "\n",
    "fruitSalad.remove('Tomato')\n",
    "print(fruitSalad)\n",
    "fruitSalad.append('Papaya')\n",
    "print(fruitSalad)\n",
    "fruitSalad.append('Grapes')\n",
    "print(fruitSalad)\n",
    "\n",
    "\n",
    "print('Strawberry' in fruitSalad)\n",
    "fruitSalad.append('Strawberry')\n",
    "print(fruitSalad)\n",
    "print('Strawberry' in fruitSalad)\n",
    "fruitSalad.sort() #按首字母排序\n",
    "print(fruitSalad)\n"
   ]
  },
  {
   "cell_type": "markdown",
   "id": "b9056f96",
   "metadata": {},
   "source": [
    "# Arithmetic Operators"
   ]
  },
  {
   "cell_type": "code",
   "execution_count": 47,
   "id": "3bdc222c",
   "metadata": {},
   "outputs": [
    {
     "name": "stdout",
     "output_type": "stream",
     "text": [
      "x=10, y=20, z=30\n",
      "x=10, y=20, z=-10\n",
      "x=10, y=20, z=200\n",
      "x=10, y=20, z=2\n",
      "x=10, y=20, z=0\n",
      "a=5, b=3, c=2\n",
      "x=10, y=20, z=100000000000000000000\n",
      "a=5, b=3, c=125\n",
      "a=5, b=3, c=1\n",
      "a=145, b=3, c=48\n"
     ]
    }
   ],
   "source": [
    "x = 10\n",
    "y = 20\n",
    "z = x + y\n",
    "print('x=%d, y=%d, z=%d' %(x,y,z)) #分别输出里面就不是运算了，是‘，’隔开\n",
    "\n",
    "# + - * / % ** //\n",
    "z = x - y\n",
    "print('x=%d, y=%d, z=%d' %(x,y,z))\n",
    "\n",
    "z = x * y\n",
    "print('x=%d, y=%d, z=%d' %(x,y,z))\n",
    "\n",
    "z = y / x\n",
    "print('x=%d, y=%d, z=%d' %(x,y,z))\n",
    "\n",
    "z = y % x\n",
    "print('x=%d, y=%d, z=%d' %(x,y,z))\n",
    "\n",
    "a = 5\n",
    "b = 3\n",
    "c = a % b\n",
    "print('a=%d, b=%d, c=%d' %(a,b,c))\n",
    "\n",
    "z = x ** y\n",
    "print('x=%d, y=%d, z=%d' %(x,y,z))\n",
    "\n",
    "c = a ** b  #多少次幂\n",
    "print('a=%d, b=%d, c=%d' %(a,b,c))\n",
    "\n",
    "c = a // b\n",
    "print('a=%d, b=%d, c=%d' %(a,b,c))\n",
    "\n",
    "\n",
    "a = 145\n",
    "b = 3\n",
    "c = a // b   #被除了多少次。\n",
    "print('a=%d, b=%d, c=%d' %(a,b,c))\n"
   ]
  },
  {
   "cell_type": "code",
   "execution_count": 50,
   "id": "02e027a1",
   "metadata": {},
   "outputs": [
    {
     "name": "stdout",
     "output_type": "stream",
     "text": [
      "Alan Turing\n"
     ]
    }
   ],
   "source": [
    "#string operations\n",
    "firstName = 'Alan'\n",
    "lastName = 'Turing'\n",
    "\n",
    "# 用空格拼接\n",
    "fullName = firstName + ' ' + lastName #第二个开始单词，第一个字母大写。\n",
    "print(fullName)"
   ]
  },
  {
   "cell_type": "markdown",
   "id": "6849fece",
   "metadata": {},
   "source": [
    "# Relational and Logical Operators"
   ]
  },
  {
   "cell_type": "code",
   "execution_count": 59,
   "id": "f9f2e6b7",
   "metadata": {},
   "outputs": [
    {
     "name": "stdout",
     "output_type": "stream",
     "text": [
      "True\n",
      "False\n",
      "True\n",
      "True\n",
      "False\n",
      "True\n",
      "False\n"
     ]
    }
   ],
   "source": [
    "print(20>10)\n",
    "# ==, != ,>,<,>=,<=\n",
    "print(20==10)\n",
    "print(20!=10)\n",
    "print(20>10)\n",
    "print(20<10)\n",
    "print(20>=10)\n",
    "print(20<=10)"
   ]
  },
  {
   "cell_type": "code",
   "execution_count": 67,
   "id": "0d00bb6b",
   "metadata": {},
   "outputs": [
    {
     "name": "stdout",
     "output_type": "stream",
     "text": [
      "y is non-positive\n",
      "y is negative\n",
      "-15\n",
      "15\n",
      "In range!\n"
     ]
    }
   ],
   "source": [
    "x = 2\n",
    "y = 1.1*(x**2) - 15*x -20\n",
    "if y>0:\n",
    "    print('y is positive')\n",
    "else:\n",
    "    print('y is non-positive')\n",
    "    \n",
    "\n",
    "# 必须有else才能结束\n",
    "x = 2\n",
    "y = 1.1*(x**2) - 15*x -20\n",
    "if y == 0:\n",
    "    print('y is zero')\n",
    "elif y>0:\n",
    "    print('y is positive')\n",
    "else:\n",
    "    print('y is negative')\n",
    "\n",
    "#可以分别赋值；1，2=1，2\n",
    "x = 10\n",
    "a,b = -15,15\n",
    "print(a)\n",
    "print(b)\n",
    "if x>a and x<b: #a<x<b\n",
    "    print('In range!')  \n",
    "else:\n",
    "    print('Out of range!')\n",
    "\n",
    "#and or and not\n"
   ]
  },
  {
   "cell_type": "markdown",
   "id": "628b2cdd",
   "metadata": {},
   "source": [
    "# Math Library  import math"
   ]
  },
  {
   "cell_type": "code",
   "execution_count": 71,
   "id": "42dc896b",
   "metadata": {},
   "outputs": [
    {
     "name": "stdout",
     "output_type": "stream",
     "text": [
      "6.283185307179586\n",
      "1.0\n"
     ]
    }
   ],
   "source": [
    "import math\n",
    "#cos sin\n",
    "theta = 2*math.pi\n",
    "print(theta)\n",
    "y = math.cos(theta)**2 +math.sin(theta)**2\n",
    "print(y)"
   ]
  },
  {
   "cell_type": "markdown",
   "id": "aa7364b6",
   "metadata": {},
   "source": [
    "# Iterations "
   ]
  },
  {
   "cell_type": "code",
   "execution_count": 76,
   "id": "8fbdcd22",
   "metadata": {},
   "outputs": [
    {
     "name": "stdout",
     "output_type": "stream",
     "text": [
      "45\n",
      "30.5\n",
      "60\n",
      "65.5\n"
     ]
    }
   ],
   "source": [
    "sum_var = 0\n",
    "for i in range(10): #range(0,10,1)\n",
    "    sum_var = sum_var + i\n",
    "print(sum_var)\n",
    "\n",
    "\n",
    "x = [10, 20, 30, -35, 5.5]\n",
    "sum_var = 0\n",
    "for i in x:\n",
    "    sum_var = sum_var + i\n",
    "print(sum_var)\n",
    "\n",
    "#add all positive\n",
    "\n",
    "#break是不符合就不跑这个任务了\n",
    "sum_var = 0\n",
    "for i in x:\n",
    "    if i > 0:\n",
    "        sum_var = sum_var + i\n",
    "    else:\n",
    "        break\n",
    "print(sum_var)\n",
    "\n",
    "#继续直到运行完整个的list。\n",
    "sum_var = 0\n",
    "for i in x:\n",
    "    if i > 0:\n",
    "        sum_var = sum_var + i\n",
    "    else:\n",
    "        continue\n",
    "print(sum_var)\n"
   ]
  },
  {
   "cell_type": "code",
   "execution_count": 84,
   "id": "e62e9227",
   "metadata": {},
   "outputs": [
    {
     "name": "stdout",
     "output_type": "stream",
     "text": [
      "[0, 1, 2, 3, 4, 5, 6, 7, 8, 9]\n",
      "[0, 1, 4, 9, 16, 25, 36, 49, 64, 81]\n",
      "[0, 1, 4, 9, 16, 25, 36, 49, 64, 81]\n"
     ]
    }
   ],
   "source": [
    "x = [i for i in range(10)]\n",
    "print(x)\n",
    "\n",
    "y = [i**2 for i in x]\n",
    "print(y)\n",
    "\n",
    "z = [i**2 for i in range(10)] #【】然后里面 先公式， for这个单独变量的循环条件\n",
    "print(z)\n"
   ]
  },
  {
   "cell_type": "markdown",
   "id": "dc3fd427",
   "metadata": {},
   "source": [
    "**Exercise 7.2**\n",
    "Let $\\mathbf{x} = [3, 1, 2, 4]$ and $\\mathbf{y} = [1, 2, 1, 2]$. Calculate the similarity between $\\mathbf{x}$ and $\\mathbf{y}$ using,\n",
    "\n",
    "1) Cosine distance defined as $\\mathsf{sim}_{dot}(\\mathbf{x,y})  = \\mathbf{x \\cdot y/||x|| ||y||}$\n",
    "\n",
    "2) Eucledian distance (a.k.a $\\mathsf{L}^2$ distance) defined as $\\mathsf{sim}_{Euc}(\\mathbf{x,y})  = \\| \\mathbf{x} - \\mathbf{y}\\|_2 = \\sqrt{\\sum_{i=1}^{N} ( x_i - y_i)^2}$\n",
    "\n",
    "(Refer to lecture 1)."
   ]
  },
  {
   "cell_type": "code",
   "execution_count": 91,
   "id": "8b4ac5cf",
   "metadata": {},
   "outputs": [
    {
     "name": "stdout",
     "output_type": "stream",
     "text": [
      "sim_cos = 0.866\n",
      "sim_cos = 0.866\n",
      "3 1\n",
      "1 2\n",
      "2 1\n",
      "4 2\n",
      "sim_euc = 3.162\n"
     ]
    }
   ],
   "source": [
    "\n",
    "# x = [3,1,2,4]\n",
    "# y = [1,2,1,2]\n",
    "# sim = x*y/dot(x)*dot(y)\n",
    "\n",
    "import math\n",
    "x = [3,1,2,4]\n",
    "y = [1,2,1,2]\n",
    "\n",
    "def dot(x,y):\n",
    "    return sum([ xi * yi for xi,yi in zip(x,y)])\n",
    "    #return sum(map(operator.mul, x, y))\n",
    "\n",
    "#莫是dot（本身*本身） 点乘就是dot（）\n",
    "sim_cos = dot(x,y) / math.sqrt(dot(x,x) * dot(y,y))\n",
    "\n",
    "print('sim_cos = {:.3f}'.format(sim_cos))\n",
    "print('sim_cos = %.3f'%(sim_cos)) #一个变量的时候可以不加（）\n",
    "#矩阵点乘，就是 x*y 然后把xy，zip后，xy对应拿出。 dot就是对应位置相乘\n",
    "\n",
    "for xi,yi in zip(x,y):\n",
    "    print(xi,yi)\n",
    "    \n",
    "sim_euc = math.sqrt(sum([(xi-yi) ** 2 for xi,yi in zip(x,y)]))\n",
    "print('sim_euc = %.3f' % sim_euc)"
   ]
  },
  {
   "cell_type": "markdown",
   "id": "b78cf9f4",
   "metadata": {},
   "source": [
    "# Plotting with Matplotlib Library"
   ]
  },
  {
   "cell_type": "code",
   "execution_count": 19,
   "id": "68f87b61",
   "metadata": {},
   "outputs": [
    {
     "name": "stdout",
     "output_type": "stream",
     "text": [
      "[0.0, 0.02, 0.04, 0.06, 0.08, 0.1, 0.12, 0.14, 0.16, 0.18]\n",
      "\n",
      "\n",
      "[0.0, 0.12408614705358509, 0.24376549746379733, 0.35724482794238815, 0.46286384234975814, 0.5591186272681762, 0.6446821859313787, 0.7184217857198374, 0.7794129097416277, 0.826949660525741]\n",
      "\n",
      "\n",
      "\n",
      "\n"
     ]
    },
    {
     "data": {
      "image/png": "[encoded data removed]",
      "text/plain": [
       "<Figure size 432x288 with 1 Axes>"
      ]
     },
     "metadata": {
      "needs_background": "light"
     },
     "output_type": "display_data"
    },
    {
     "data": {
      "image/png": "[encoded data removed]",
      "text/plain": [
       "<Figure size 432x288 with 1 Axes>"
      ]
     },
     "metadata": {
      "needs_background": "light"
     },
     "output_type": "display_data"
    },
    {
     "data": {
      "image/png": "[encoded data removed]",
      "text/plain": [
       "<Figure size 432x288 with 1 Axes>"
      ]
     },
     "metadata": {
      "needs_background": "light"
     },
     "output_type": "display_data"
    },
    {
     "data": {
      "image/png": "[encoded data removed]",
      "text/plain": [
       "<Figure size 432x288 with 1 Axes>"
      ]
     },
     "metadata": {
      "needs_background": "light"
     },
     "output_type": "display_data"
    },
    {
     "data": {
      "image/png": "[encoded data removed]",
      "text/plain": [
       "<Figure size 432x288 with 1 Axes>"
      ]
     },
     "metadata": {
      "needs_background": "light"
     },
     "output_type": "display_data"
    }
   ],
   "source": [
    "import math\n",
    "import matplotlib.pyplot as pl\n",
    "%matplotlib inline\n",
    "\n",
    "t = [i/50 for i in range(501)]\n",
    "f = 1\n",
    "y = [math.sin(2*math.pi*f*i)*math.exp(-0.5*i) for i in t]\n",
    "# y = sin(2Pi*f*t)*exp(-t/2)\n",
    "print(t[:10])\n",
    "print('\\n')\n",
    "print(y[:10])\n",
    "print('\\n')\n",
    "print('\\n')\n",
    "\n",
    "pl.scatter(t,y)\n",
    "pl.title('Damped Sine Wave with %.1f Hz frequency' % f)\n",
    "pl.show()\n",
    "\n",
    "pl.scatter(t,y)\n",
    "pl.title('Damped Sine Wave with %.1f Hz frequency' % f)\n",
    "pl.xlabel('t(s)')\n",
    "pl.ylabel('y')\n",
    "pl.show()\n",
    "\n",
    "pl.scatter(t,y)\n",
    "pl.title('Damped Sine Wave with %.1f Hz frequency' % f)\n",
    "pl.xlabel('t(s)')\n",
    "pl.ylabel('y')\n",
    "pl.grid() #网格\n",
    "pl.show()\n",
    "\n",
    "pl.plot(t,y) #scatter点；plot 线\n",
    "pl.title('Damped Sine Wave with %.1f Hz frequency' % f)\n",
    "pl.xlabel('t(s)')\n",
    "pl.ylabel('y')\n",
    "pl.grid() #网格\n",
    "pl.show()\n",
    "\n",
    "#Exercise 8.2 Highligh data points, s.t.  |𝑦|>0.5  in a different marker colour.\n",
    "# pl.scatter(t,y)\n",
    "# if y>0.5 or y <-0.5:\n",
    "#     %colors = red\n",
    "# pl.title('Damped Sine Wave with %.1f Hz frequency' % f)\n",
    "# pl.xlabel('t(s)')\n",
    "# pl.ylabel('y')\n",
    "# pl.grid() #网格\n",
    "# pl.show()\n",
    "\n",
    "import math\n",
    "import matplotlib.pyplot as pl\n",
    "%matplotlib inline\n",
    "\n",
    "t = [i/50 for i in range(501)]\n",
    "f = 1\n",
    "y = [math.sin(2*math.pi*f*i)*math.exp(-0.5*i) for i in t]\n",
    "\n",
    "# 颜色， 条件， else 否则，颜色；循环,是在scatter总多加了一个属性\n",
    "pl.scatter(t,y, c = ['b' if -0.5<i<0.5 else 'r' for i in y]) \n",
    "\n",
    "pl.title('Damped Sine Wave with %.1f Hz frequency' % f)\n",
    "pl.xlabel('t(s)')\n",
    "pl.ylabel('y')\n",
    "pl.grid() #网格\n",
    "pl.show()"
   ]
  },
  {
   "cell_type": "markdown",
   "id": "35699e84",
   "metadata": {},
   "source": [
    "# Data Structures"
   ]
  },
  {
   "cell_type": "code",
   "execution_count": 44,
   "id": "ddc31ec1",
   "metadata": {},
   "outputs": [
    {
     "name": "stdout",
     "output_type": "stream",
     "text": [
      "abgr\n",
      "grab\n",
      "<function update_dict at 0x7f93d99c5ee0>\n",
      "['arts', 'rats', 'star', 'tars', 'start']\n",
      "\n",
      "\n",
      "{'arst': ['arts', 'rats', 'star', 'tars', 'start'], 'apt': ['pat', 'apt', 'tap'], 'aeglry': ['allergy', 'largely', 'regally', 'gallery'], 'aeglr': ['lager'], 'eoprst': ['potters'], 'belstu': ['bluest', 'bluets', 'bustle', 'sublet', 'subtle'], 'acdert': ['retraced'], 'abgr': ['grab']}\n",
      "\n",
      "\n",
      "group 0 is arst : ['arts', 'rats', 'star', 'tars', 'start']\n",
      "group 1 is apt : ['pat', 'apt', 'tap']\n",
      "group 2 is aeglry : ['allergy', 'largely', 'regally', 'gallery']\n",
      "group 3 is aeglr : ['lager']\n",
      "group 4 is eoprst : ['potters']\n",
      "group 5 is belstu : ['bluest', 'bluets', 'bustle', 'sublet', 'subtle']\n",
      "group 6 is acdert : ['retraced']\n",
      "group 7 is abgr : ['grab']\n"
     ]
    }
   ],
   "source": [
    "word_list = ['arts', 'rats', 'star', 'tars', 'start', 'pat', 'allergy', 'lager', 'largely', 'regally', 'apt', \\\n",
    "             'potters', 'tap', 'bluest', 'tap', 'bluets', 'retraced', 'gallery','bustle', 'sublet', 'subtle', 'grab']\n",
    "\n",
    "# \\ 表示换行\n",
    "'''\n",
    "    先把单词都拆开成字母，然后排序，这样每个单词拆后排序，如果所含字母相同，那么排序必然相同，这样再把他们丢到字典里去。\n",
    "    然后记下key；然后将list中的单词进行拆分，\n",
    "'''\n",
    "def update_dict(d, key, value):\n",
    "    if key in d.keys():\n",
    "        if value not in d[key]:\n",
    "            d[key].append(value)\n",
    "    else:\n",
    "        d[key] = [value]\n",
    "\n",
    "d = {}\n",
    "for value in word_list:\n",
    "    key = list(set(list(value)))  #拆分\n",
    "    key.sort()\n",
    "    key = ''.join(key)   #排序以后拼接 成总体的key；然后将\n",
    "    update_dict(d, key, value)  #然后将d这个已经录入完整的字典，+ 字典里的index，加上ind对应的值丢进编辑的函数中。\n",
    "    #然后开始判断key，这里的key相当于写在主函数里了。进行的就是从word-list里面拿出个单词，然后拆开，组合成新的key然后……，面向对象编程了感觉。\n",
    "    \n",
    "    \n",
    "print(key)\n",
    "print(value)\n",
    "print(update_dict)\n",
    "print(d['arst'])\n",
    "print('\\n')\n",
    "print(d)\n",
    "print('\\n')\n",
    "for i, key in enumerate(d.keys()):\n",
    "    print('group %d is' %i, key, ':', d[key])"
   ]
  },
  {
   "cell_type": "code",
   "execution_count": 46,
   "id": "32cbb1b3",
   "metadata": {},
   "outputs": [
    {
     "name": "stdout",
     "output_type": "stream",
     "text": [
      "['g', 'r', 'a', 'b']\n",
      "{'g', 'a', 'b', 'r'}\n",
      "['g', 'a', 'b', 'r']\n"
     ]
    },
    {
     "data": {
      "text/plain": [
       "['grab']"
      ]
     },
     "execution_count": 46,
     "metadata": {},
     "output_type": "execute_result"
    }
   ],
   "source": [
    "print(list(value))\n",
    "print(set(list(value)))\n",
    "print(list(set(list(value))))\n",
    "d[key]"
   ]
  },
  {
   "cell_type": "code",
   "execution_count": 61,
   "id": "9dc376b7",
   "metadata": {},
   "outputs": [
    {
     "data": {
      "text/plain": [
       "{'arst': ['arts', 'rats', 'star', 'tars', 'start'],\n",
       " 'apt': ['pat', 'apt', 'tap'],\n",
       " 'aeglry': ['allergy', 'largely', 'regally', 'gallery'],\n",
       " 'aeglr': ['lager'],\n",
       " 'eoprst': ['potters'],\n",
       " 'belstu': ['bluest', 'bluets', 'bustle', 'sublet', 'subtle'],\n",
       " 'acdert': ['retraced'],\n",
       " 'abgr': ['grab']}"
      ]
     },
     "execution_count": 61,
     "metadata": {},
     "output_type": "execute_result"
    }
   ],
   "source": [
    "key = list(set(list(value)))\n",
    "key.sort()\n",
    "key = ''.join(key)\n",
    "key #abgr\n",
    "key #['g', 'a', 'b', 'r']\n",
    " #'grab'\n",
    "d"
   ]
  },
  {
   "cell_type": "code",
   "execution_count": 67,
   "id": "ee112555",
   "metadata": {},
   "outputs": [
    {
     "name": "stdout",
     "output_type": "stream",
     "text": [
      "dict_keys(['arst', 'apt', 'aeglry', 'aeglr', 'eoprst', 'belstu', 'acdert', 'abgr'])\n",
      "['grab']\n"
     ]
    }
   ],
   "source": [
    "print(d.keys())\n",
    "print(d[key])"
   ]
  },
  {
   "cell_type": "markdown",
   "id": "0890504f",
   "metadata": {},
   "source": [
    "# end\n"
   ]
  }
 ],
 "metadata": {
  "kernelspec": {
   "display_name": "Python 3",
   "language": "python",
   "name": "python3"
  },
  "language_info": {
   "codemirror_mode": {
    "name": "ipython",
    "version": 3
   },
   "file_extension": ".py",
   "mimetype": "text/x-python",
   "name": "python",
   "nbconvert_exporter": "python",
   "pygments_lexer": "ipython3",
   "version": "3.8.11"
  }
 },
 "nbformat": 4,
 "nbformat_minor": 5
}
