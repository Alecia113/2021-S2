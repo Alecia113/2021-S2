{
 "cells": [
  {
   "cell_type": "code",
   "execution_count": null,
   "id": "cd5eda3e",
   "metadata": {},
   "outputs": [],
   "source": [
    "# To learn about k-NN classification algorithm.\n",
    "# To learn about bag of words features and naïve Bayes classifier.\n",
    "# To evaluate classification performance measures.\n",
    "#KNN【把整个training data set 称为一个模型, NaB,  evaluate 分类器\n",
    "#k圈个圈范围内"
   ]
  },
  {
   "cell_type": "markdown",
   "id": "739fd54f",
   "metadata": {},
   "source": [
    "# k-nearest neighbors (k-NN) classification algorithm 【KNN分类法】"
   ]
  },
  {
   "cell_type": "markdown",
   "id": "1822f143",
   "metadata": {},
   "source": [
    "### Toy example\n"
   ]
  },
  {
   "cell_type": "code",
   "execution_count": 1,
   "id": "c6553e42",
   "metadata": {},
   "outputs": [],
   "source": [
    "import numpy as np\n",
    "import matplotlib.pyplot as pl\n",
    "%matplotlib inline"
   ]
  },
  {
   "cell_type": "code",
   "execution_count": 2,
   "id": "d5d8389b",
   "metadata": {},
   "outputs": [],
   "source": [
    "#loading data\n",
    "X = np.asarray(([2,1,3,5,3,10,9,5,8,11,15,13,16],[1,0,3,5,2,12,11,10,7,9,11,15,16])).T\n",
    "y = np.asarray([0,0,0,0,0,1,1,1,1,1,2,2,2])[:,np.newaxis]  # np.asarray([0,0,0,0,0,1,1,1,1,1,2,2,2])[:,None] - column vector"
   ]
  },
  {
   "cell_type": "markdown",
   "id": "1e3340e5",
   "metadata": {},
   "source": [
    "### test"
   ]
  },
  {
   "cell_type": "code",
   "execution_count": 3,
   "id": "aff4c52f",
   "metadata": {},
   "outputs": [
    {
     "data": {
      "text/plain": [
       "array([[ 2,  1],\n",
       "       [ 1,  0],\n",
       "       [ 3,  3],\n",
       "       [ 5,  5],\n",
       "       [ 3,  2],\n",
       "       [10, 12],\n",
       "       [ 9, 11],\n",
       "       [ 5, 10],\n",
       "       [ 8,  7],\n",
       "       [11,  9],\n",
       "       [15, 11],\n",
       "       [13, 15],\n",
       "       [16, 16]])"
      ]
     },
     "execution_count": 3,
     "metadata": {},
     "output_type": "execute_result"
    }
   ],
   "source": [
    "X"
   ]
  },
  {
   "cell_type": "code",
   "execution_count": 4,
   "id": "b3bd8301",
   "metadata": {},
   "outputs": [
    {
     "data": {
      "text/plain": [
       "array([[0],\n",
       "       [0],\n",
       "       [0],\n",
       "       [0],\n",
       "       [0],\n",
       "       [1],\n",
       "       [1],\n",
       "       [1],\n",
       "       [1],\n",
       "       [1],\n",
       "       [2],\n",
       "       [2],\n",
       "       [2]])"
      ]
     },
     "execution_count": 4,
     "metadata": {},
     "output_type": "execute_result"
    }
   ],
   "source": [
    "y "
   ]
  },
  {
   "cell_type": "code",
   "execution_count": 5,
   "id": "47fdb505",
   "metadata": {},
   "outputs": [
    {
     "data": {
      "text/plain": [
       "(13, 2)"
      ]
     },
     "execution_count": 5,
     "metadata": {},
     "output_type": "execute_result"
    }
   ],
   "source": [
    "X.shape"
   ]
  },
  {
   "cell_type": "code",
   "execution_count": 6,
   "id": "e1e27d83",
   "metadata": {},
   "outputs": [
    {
     "data": {
      "text/plain": [
       "(13, 1)"
      ]
     },
     "execution_count": 6,
     "metadata": {},
     "output_type": "execute_result"
    }
   ],
   "source": [
    "y.shape"
   ]
  },
  {
   "cell_type": "code",
   "execution_count": 7,
   "id": "74851335",
   "metadata": {},
   "outputs": [],
   "source": [
    "#loading data\n",
    "X1 = np.array(([2,1,3,5,3,10,9,5,8,11,15,13,16],[1,0,3,5,2,12,11,10,7,9,11,15,16])).T\n",
    "y1 = np.array([0,0,0,0,0,1,1,1,1,1,2,2,2])[:,np.newaxis]  # np.asarray([0,0,0,0,0,1,1,1,1,1,2,2,2])[:,None] - column vector"
   ]
  },
  {
   "cell_type": "code",
   "execution_count": 11,
   "id": "1cf80acd",
   "metadata": {},
   "outputs": [
    {
     "name": "stdout",
     "output_type": "stream",
     "text": [
      "[[ 2  1]\n",
      " [ 1  0]\n",
      " [ 3  3]\n",
      " [ 5  5]\n",
      " [ 3  2]\n",
      " [10 12]\n",
      " [ 9 11]\n",
      " [ 5 10]\n",
      " [ 8  7]\n",
      " [11  9]\n",
      " [15 11]\n",
      " [13 15]\n",
      " [16 16]] \n",
      " \n",
      " [[0]\n",
      " [0]\n",
      " [0]\n",
      " [0]\n",
      " [0]\n",
      " [1]\n",
      " [1]\n",
      " [1]\n",
      " [1]\n",
      " [1]\n",
      " [2]\n",
      " [2]\n",
      " [2]]\n"
     ]
    }
   ],
   "source": [
    "print(X1,'\\n','\\n',y1)"
   ]
  },
  {
   "cell_type": "code",
   "execution_count": 15,
   "id": "cf44c60f",
   "metadata": {},
   "outputs": [],
   "source": [
    "# continuous\n",
    "N=len(y)\n",
    "X_q = np.asarray(([4.5],[5])).T #query point\n",
    "\n",
    "pos_of_class0 = np.where(y==0)[0] #class 0 points\n",
    "pos_of_class1 = np.where(y==1)[0] #class 0 points\n",
    "pos_of_class2 = np.where(y==2)[0] #class 0 points\n"
   ]
  },
  {
   "cell_type": "code",
   "execution_count": 16,
   "id": "723cef91",
   "metadata": {},
   "outputs": [
    {
     "name": "stdout",
     "output_type": "stream",
     "text": [
      "[0 1 2 3 4] \n",
      " \n",
      " [5 6 7 8 9] \n",
      " \n",
      " [10 11 12]\n"
     ]
    }
   ],
   "source": [
    "print(pos_of_class0,'\\n','\\n',pos_of_class1,'\\n','\\n',pos_of_class2)"
   ]
  },
  {
   "cell_type": "code",
   "execution_count": 17,
   "id": "a1ff7dc2",
   "metadata": {},
   "outputs": [
    {
     "data": {
      "text/plain": [
       "<matplotlib.collections.PathCollection at 0x7f94fde38730>"
      ]
     },
     "execution_count": 17,
     "metadata": {},
     "output_type": "execute_result"
    },
    {
     "data": {
      "image/png": "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\n",
      "text/plain": [
       "<Figure size 432x288 with 1 Axes>"
      ]
     },
     "metadata": {
      "needs_background": "light"
     },
     "output_type": "display_data"
    }
   ],
   "source": [
    "pl.scatter(X[pos_of_class0,0], X[pos_of_class0,1], c='r')"
   ]
  },
  {
   "cell_type": "code",
   "execution_count": 22,
   "id": "d113c32f",
   "metadata": {},
   "outputs": [
    {
     "data": {
      "text/plain": [
       "<matplotlib.collections.PathCollection at 0x7f94fa85dfd0>"
      ]
     },
     "execution_count": 22,
     "metadata": {},
     "output_type": "execute_result"
    },
    {
     "data": {
      "image/png": "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\n",
      "text/plain": [
       "<Figure size 432x288 with 1 Axes>"
      ]
     },
     "metadata": {
      "needs_background": "light"
     },
     "output_type": "display_data"
    }
   ],
   "source": [
    "pl.scatter(X[pos_of_class0,0], X[pos_of_class0,1], c='r')"
   ]
  },
  {
   "cell_type": "code",
   "execution_count": 20,
   "id": "c6b75b39",
   "metadata": {},
   "outputs": [
    {
     "data": {
      "text/plain": [
       "array([[ 2,  1],\n",
       "       [ 1,  0],\n",
       "       [ 3,  3],\n",
       "       [ 5,  5],\n",
       "       [ 3,  2],\n",
       "       [10, 12],\n",
       "       [ 9, 11],\n",
       "       [ 5, 10],\n",
       "       [ 8,  7],\n",
       "       [11,  9],\n",
       "       [15, 11],\n",
       "       [13, 15],\n",
       "       [16, 16]])"
      ]
     },
     "execution_count": 20,
     "metadata": {},
     "output_type": "execute_result"
    }
   ],
   "source": [
    "X"
   ]
  },
  {
   "cell_type": "code",
   "execution_count": 24,
   "id": "b8c66f01",
   "metadata": {},
   "outputs": [
    {
     "data": {
      "text/plain": [
       "array([2, 1, 3, 5, 3])"
      ]
     },
     "execution_count": 24,
     "metadata": {},
     "output_type": "execute_result"
    }
   ],
   "source": [
    "X[pos_of_class0,0]"
   ]
  },
  {
   "cell_type": "code",
   "execution_count": 25,
   "id": "14cd85d9",
   "metadata": {},
   "outputs": [
    {
     "data": {
      "text/plain": [
       "array([10,  9,  5,  8, 11])"
      ]
     },
     "execution_count": 25,
     "metadata": {},
     "output_type": "execute_result"
    }
   ],
   "source": [
    "X[pos_of_class1,0]"
   ]
  },
  {
   "cell_type": "code",
   "execution_count": 26,
   "id": "acbf9825",
   "metadata": {},
   "outputs": [
    {
     "data": {
      "text/plain": [
       "array([15, 13, 16])"
      ]
     },
     "execution_count": 26,
     "metadata": {},
     "output_type": "execute_result"
    }
   ],
   "source": [
    "X[pos_of_class2,0]"
   ]
  },
  {
   "cell_type": "code",
   "execution_count": 27,
   "id": "7aa136a2",
   "metadata": {},
   "outputs": [
    {
     "data": {
      "text/plain": [
       "<matplotlib.collections.PathCollection at 0x7f94fdd8e2e0>"
      ]
     },
     "execution_count": 27,
     "metadata": {},
     "output_type": "execute_result"
    },
    {
     "data": {
      "image/png": "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\n",
      "text/plain": [
       "<Figure size 432x288 with 1 Axes>"
      ]
     },
     "metadata": {
      "needs_background": "light"
     },
     "output_type": "display_data"
    }
   ],
   "source": [
    "pl.scatter(X[pos_of_class0,0], X[pos_of_class0,1], c='r')\n",
    "pl.scatter(X[pos_of_class1,0], X[pos_of_class1,1], c='g')\n",
    "pl.scatter(X[pos_of_class2,0], X[pos_of_class2,1], c='b')\n",
    "pl.scatter(X_q[:,0], X_q[:,1]])"
   ]
  },
  {
   "cell_type": "code",
   "execution_count": 42,
   "id": "d58f1503",
   "metadata": {},
   "outputs": [
    {
     "data": {
      "text/plain": [
       "array([4.5])"
      ]
     },
     "execution_count": 42,
     "metadata": {},
     "output_type": "execute_result"
    }
   ],
   "source": [
    "X_q[:,0]  #  ~~ 【X_q[0][0]】"
   ]
  },
  {
   "cell_type": "code",
   "execution_count": 31,
   "id": "904d5177",
   "metadata": {},
   "outputs": [
    {
     "data": {
      "text/plain": [
       "array([[4.5, 5. ]])"
      ]
     },
     "execution_count": 31,
     "metadata": {},
     "output_type": "execute_result"
    }
   ],
   "source": [
    "X_q = np.asarray(([4.5],[5])).T #query point\n",
    "X_q"
   ]
  },
  {
   "cell_type": "code",
   "execution_count": 44,
   "id": "0b7b1da6",
   "metadata": {},
   "outputs": [
    {
     "data": {
      "text/plain": [
       "array([4.5, 5. ])"
      ]
     },
     "execution_count": 44,
     "metadata": {},
     "output_type": "execute_result"
    }
   ],
   "source": [
    "X_q[0] #(1, 2)   #X_q[:,1]  array([5.])"
   ]
  },
  {
   "cell_type": "code",
   "execution_count": 47,
   "id": "ff683dc1",
   "metadata": {},
   "outputs": [
    {
     "data": {
      "text/plain": [
       "4.5"
      ]
     },
     "execution_count": 47,
     "metadata": {},
     "output_type": "execute_result"
    }
   ],
   "source": [
    "X_q[0][0]"
   ]
  },
  {
   "cell_type": "code",
   "execution_count": 51,
   "id": "58883f49",
   "metadata": {},
   "outputs": [
    {
     "data": {
      "text/plain": [
       "True"
      ]
     },
     "execution_count": 51,
     "metadata": {},
     "output_type": "execute_result"
    }
   ],
   "source": [
    "X_q[:,0][0]  == X_q[0][0] #为了保留array【】"
   ]
  },
  {
   "cell_type": "code",
   "execution_count": 56,
   "id": "29c12362",
   "metadata": {},
   "outputs": [
    {
     "data": {
      "text/plain": [
       "array([[4.5, 5. ]])"
      ]
     },
     "execution_count": 56,
     "metadata": {},
     "output_type": "execute_result"
    }
   ],
   "source": [
    "X_q[:]  #array([[4.5, 5. ]])"
   ]
  },
  {
   "cell_type": "code",
   "execution_count": 59,
   "id": "cca34320",
   "metadata": {},
   "outputs": [
    {
     "data": {
      "text/plain": [
       "array([[ True,  True]])"
      ]
     },
     "execution_count": 59,
     "metadata": {},
     "output_type": "execute_result"
    }
   ],
   "source": [
    "X_q == X_q[:] "
   ]
  },
  {
   "cell_type": "code",
   "execution_count": 96,
   "id": "a91a3b99",
   "metadata": {},
   "outputs": [
    {
     "data": {
      "text/plain": [
       "array([[4.5, 5. ]])"
      ]
     },
     "execution_count": 96,
     "metadata": {},
     "output_type": "execute_result"
    }
   ],
   "source": [
    "X_q[:,] \n",
    "#   X_q[1:,]   array([], shape=(0, 2), dtype=float64)\n",
    "#X_q[:0,]   array([], shape=(0, 2), dtype=float64)\n",
    "#X_q[:1,]   array([[4.5, 5. ]])\n",
    "#X_q[:,0]  array([4.5])\n",
    "#X_q[:,1]  array([5.])"
   ]
  },
  {
   "cell_type": "code",
   "execution_count": 81,
   "id": "6c26c9d1",
   "metadata": {},
   "outputs": [
    {
     "data": {
      "text/plain": [
       "array([[4.5, 5. ]])"
      ]
     },
     "execution_count": 81,
     "metadata": {},
     "output_type": "execute_result"
    }
   ],
   "source": [
    "X_q"
   ]
  },
  {
   "cell_type": "code",
   "execution_count": 99,
   "id": "d4757440",
   "metadata": {},
   "outputs": [
    {
     "data": {
      "text/plain": [
       "<matplotlib.collections.PathCollection at 0x7f94fda7c130>"
      ]
     },
     "execution_count": 99,
     "metadata": {},
     "output_type": "execute_result"
    },
    {
     "data": {
      "image/png": "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\n",
      "text/plain": [
       "<Figure size 432x288 with 1 Axes>"
      ]
     },
     "metadata": {
      "needs_background": "light"
     },
     "output_type": "display_data"
    }
   ],
   "source": [
    "pl.scatter(X_q[:,0], X_q[:,1])"
   ]
  },
  {
   "cell_type": "code",
   "execution_count": 100,
   "id": "bbdebb94",
   "metadata": {},
   "outputs": [
    {
     "data": {
      "text/plain": [
       "<matplotlib.collections.PathCollection at 0x7f94fc8d7280>"
      ]
     },
     "execution_count": 100,
     "metadata": {},
     "output_type": "execute_result"
    },
    {
     "data": {
      "image/png": "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\n",
      "text/plain": [
       "<Figure size 432x288 with 1 Axes>"
      ]
     },
     "metadata": {
      "needs_background": "light"
     },
     "output_type": "display_data"
    }
   ],
   "source": [
    "pl.scatter(X_q[:,0], X_q[:,1], marker='*') #marker 是改变点的形状； s 点的大小 c= k黑色"
   ]
  },
  {
   "cell_type": "code",
   "execution_count": 102,
   "id": "7c77520f",
   "metadata": {},
   "outputs": [
    {
     "data": {
      "text/plain": [
       "<matplotlib.collections.PathCollection at 0x7f94fa867340>"
      ]
     },
     "execution_count": 102,
     "metadata": {},
     "output_type": "execute_result"
    },
    {
     "data": {
      "image/png": "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\n",
      "text/plain": [
       "<Figure size 432x288 with 1 Axes>"
      ]
     },
     "metadata": {
      "needs_background": "light"
     },
     "output_type": "display_data"
    }
   ],
   "source": [
    "pl.scatter(X_q[:,0], X_q[:,1], marker = '*', s=100, c = 'k')"
   ]
  },
  {
   "cell_type": "code",
   "execution_count": 106,
   "id": "0bbbad59",
   "metadata": {},
   "outputs": [
    {
     "data": {
      "image/png": "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\n",
      "text/plain": [
       "<Figure size 432x288 with 1 Axes>"
      ]
     },
     "metadata": {
      "needs_background": "light"
     },
     "output_type": "display_data"
    }
   ],
   "source": [
    "for i in range(N):\n",
    "    pl.scatter(X[i,0]+0.4, X[i,1]-0.5, s = 100, marker = \"$ {} $\".format(i)) #positions\n",
    "    #marker = \"$ {} $\".format(i) 变成对应数字；"
   ]
  },
  {
   "cell_type": "code",
   "execution_count": 104,
   "id": "28899b5c",
   "metadata": {},
   "outputs": [
    {
     "data": {
      "text/plain": [
       "12"
      ]
     },
     "execution_count": 104,
     "metadata": {},
     "output_type": "execute_result"
    }
   ],
   "source": [
    "i"
   ]
  },
  {
   "cell_type": "code",
   "execution_count": 110,
   "id": "be61d31e",
   "metadata": {},
   "outputs": [
    {
     "data": {
      "image/png": "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\n",
      "text/plain": [
       "<Figure size 432x288 with 1 Axes>"
      ]
     },
     "metadata": {
      "needs_background": "light"
     },
     "output_type": "display_data"
    }
   ],
   "source": [
    "N = len(y)\n",
    "\n",
    "X_q = np.asarray(([4.5],[5])).T #query point\n",
    "\n",
    "pos_of_class0 = np.where(y==0)[0] #class 0 points\n",
    "pos_of_class1 = np.where(y==1)[0] #class 1 points\n",
    "pos_of_class2 = np.where(y==2)[0] #class 2 points\n",
    "\n",
    "pl.scatter(X[pos_of_class0,0], X[pos_of_class0,1], c='r') #class = 0\n",
    "pl.scatter(X[pos_of_class1,0], X[pos_of_class1,1], c='g') #class = 1\n",
    "pl.scatter(X[pos_of_class2,0], X[pos_of_class2,1], c='b') #class = 2\n",
    "pl.scatter(X_q[:,0], X_q[:,1], marker='*', s=100, c='k') #class to be determined\n",
    "for i in range(N): \n",
    "    pl.scatter(X[i,0]+0.4, X[i,1]-0.5, s=100, marker=\"$ {} $\".format(i)) #positions "
   ]
  },
  {
   "cell_type": "code",
   "execution_count": null,
   "id": "8efb31be",
   "metadata": {},
   "outputs": [],
   "source": []
  },
  {
   "cell_type": "code",
   "execution_count": null,
   "id": "0822660c",
   "metadata": {},
   "outputs": [],
   "source": []
  },
  {
   "cell_type": "code",
   "execution_count": null,
   "id": "c833fb1f",
   "metadata": {},
   "outputs": [],
   "source": []
  },
  {
   "cell_type": "code",
   "execution_count": 76,
   "id": "cef7c3f8",
   "metadata": {},
   "outputs": [
    {
     "ename": "ValueError",
     "evalue": "The truth value of an array with more than one element is ambiguous. Use a.any() or a.all()",
     "output_type": "error",
     "traceback": [
      "\u001b[0;31m---------------------------------------------------------------------------\u001b[0m",
      "\u001b[0;31mValueError\u001b[0m                                Traceback (most recent call last)",
      "\u001b[0;32m<ipython-input-76-e11de1b7f4ae>\u001b[0m in \u001b[0;36m<module>\u001b[0;34m\u001b[0m\n\u001b[1;32m      1\u001b[0m \u001b[0;31m#conclusion\u001b[0m\u001b[0;34m\u001b[0m\u001b[0;34m\u001b[0m\u001b[0;34m\u001b[0m\u001b[0m\n\u001b[1;32m      2\u001b[0m \u001b[0mX_q\u001b[0m\u001b[0;34m[\u001b[0m\u001b[0;34m:\u001b[0m\u001b[0;34m,\u001b[0m\u001b[0;36m0\u001b[0m\u001b[0;34m]\u001b[0m\u001b[0;34m[\u001b[0m\u001b[0;36m0\u001b[0m\u001b[0;34m]\u001b[0m  \u001b[0;34m==\u001b[0m \u001b[0mX_q\u001b[0m\u001b[0;34m[\u001b[0m\u001b[0;36m0\u001b[0m\u001b[0;34m]\u001b[0m\u001b[0;34m[\u001b[0m\u001b[0;36m0\u001b[0m\u001b[0;34m]\u001b[0m\u001b[0;34m\u001b[0m\u001b[0;34m\u001b[0m\u001b[0m\n\u001b[0;32m----> 3\u001b[0;31m \u001b[0mX_q\u001b[0m \u001b[0;34m==\u001b[0m \u001b[0mX_q\u001b[0m\u001b[0;34m[\u001b[0m\u001b[0;34m:\u001b[0m\u001b[0;34m]\u001b[0m \u001b[0;34m==\u001b[0m\u001b[0mX_q\u001b[0m\u001b[0;34m[\u001b[0m\u001b[0;34m:\u001b[0m\u001b[0;34m,\u001b[0m\u001b[0;34m]\u001b[0m\u001b[0;34m\u001b[0m\u001b[0;34m\u001b[0m\u001b[0m\n\u001b[0m",
      "\u001b[0;31mValueError\u001b[0m: The truth value of an array with more than one element is ambiguous. Use a.any() or a.all()"
     ]
    }
   ],
   "source": [
    "#conclusion \n",
    "# X_q[:,0][0]  == X_q[0][0]\n",
    "# X_q == X_q[:] ==X_q[:,] ==X_q[:1,]==X_q[:2,] ==X_q[:,:]\n"
   ]
  },
  {
   "cell_type": "markdown",
   "id": "0ae60af7",
   "metadata": {},
   "source": [
    "# 正式example\n"
   ]
  },
  {
   "cell_type": "code",
   "execution_count": 107,
   "id": "fc1b0466",
   "metadata": {},
   "outputs": [],
   "source": [
    "import numpy as np\n",
    "import matplotlib.pylab as pl\n",
    "%matplotlib inline"
   ]
  },
  {
   "cell_type": "code",
   "execution_count": 108,
   "id": "2cf1130b",
   "metadata": {},
   "outputs": [],
   "source": [
    "#loading data\n",
    "X = np.asarray(([2,1,3,5,3,10,9,5,8,11,15,13,16],[1,0,3,5,2,12,11,10,7,9,11,15,16])).T\n",
    "y = np.asarray([0,0,0,0,0,1,1,1,1,1,2,2,2])[:,np.newaxis]  # np.asarray([0,0,0,0,0,1,1,1,1,1,2,2,2])[:,None] - column vector"
   ]
  },
  {
   "cell_type": "code",
   "execution_count": 109,
   "id": "8a9cd441",
   "metadata": {},
   "outputs": [
    {
     "data": {
      "image/png": "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\n",
      "text/plain": [
       "<Figure size 432x288 with 1 Axes>"
      ]
     },
     "metadata": {
      "needs_background": "light"
     },
     "output_type": "display_data"
    }
   ],
   "source": [
    "N = len(y)\n",
    "\n",
    "X_q = np.asarray(([4.5],[5])).T #query point\n",
    "\n",
    "pos_of_class0 = np.where(y==0)[0] #class 0 points\n",
    "pos_of_class1 = np.where(y==1)[0] #class 1 points\n",
    "pos_of_class2 = np.where(y==2)[0] #class 2 points\n",
    "\n",
    "pl.scatter(X[pos_of_class0,0], X[pos_of_class0,1], c='r') #class = 0\n",
    "pl.scatter(X[pos_of_class1,0], X[pos_of_class1,1], c='g') #class = 1\n",
    "pl.scatter(X[pos_of_class2,0], X[pos_of_class2,1], c='b') #class = 2\n",
    "pl.scatter(X_q[:,0], X_q[:,1], marker='*', s=100, c='k') #class to be determined\n",
    "for i in range(N): \n",
    "    pl.scatter(X[i,0]+0.4, X[i,1]-0.5, s=100, marker=\"$ {} $\".format(i)) #positions "
   ]
  },
  {
   "cell_type": "code",
   "execution_count": null,
   "id": "4d75d8e4",
   "metadata": {},
   "outputs": [],
   "source": [
    "#K太小overfitting过拟合，|| K太大，k接近n，欠拟合"
   ]
  },
  {
   "cell_type": "code",
   "execution_count": null,
   "id": "0ff170ed",
   "metadata": {},
   "outputs": [],
   "source": []
  },
  {
   "cell_type": "code",
   "execution_count": null,
   "id": "cb41817e",
   "metadata": {},
   "outputs": [],
   "source": []
  },
  {
   "cell_type": "code",
   "execution_count": null,
   "id": "cc3fc460",
   "metadata": {},
   "outputs": [],
   "source": []
  },
  {
   "cell_type": "code",
   "execution_count": null,
   "id": "37a4a0e5",
   "metadata": {},
   "outputs": [],
   "source": []
  },
  {
   "cell_type": "code",
   "execution_count": null,
   "id": "f9cbc6cd",
   "metadata": {},
   "outputs": [],
   "source": []
  },
  {
   "cell_type": "code",
   "execution_count": null,
   "id": "eafb60b1",
   "metadata": {},
   "outputs": [],
   "source": []
  },
  {
   "cell_type": "code",
   "execution_count": null,
   "id": "f9f2944b",
   "metadata": {},
   "outputs": [],
   "source": []
  },
  {
   "cell_type": "code",
   "execution_count": null,
   "id": "4842c6a7",
   "metadata": {},
   "outputs": [],
   "source": []
  },
  {
   "cell_type": "code",
   "execution_count": null,
   "id": "eb1725db",
   "metadata": {},
   "outputs": [],
   "source": []
  },
  {
   "cell_type": "code",
   "execution_count": null,
   "id": "8de278f7",
   "metadata": {},
   "outputs": [],
   "source": []
  },
  {
   "cell_type": "code",
   "execution_count": null,
   "id": "18ad84a1",
   "metadata": {},
   "outputs": [],
   "source": []
  },
  {
   "cell_type": "code",
   "execution_count": null,
   "id": "218b2593",
   "metadata": {},
   "outputs": [],
   "source": []
  },
  {
   "cell_type": "code",
   "execution_count": null,
   "id": "90ae9e0a",
   "metadata": {},
   "outputs": [],
   "source": []
  },
  {
   "cell_type": "code",
   "execution_count": null,
   "id": "0777bf6b",
   "metadata": {},
   "outputs": [],
   "source": []
  },
  {
   "cell_type": "code",
   "execution_count": null,
   "id": "ff262a5b",
   "metadata": {},
   "outputs": [],
   "source": []
  },
  {
   "cell_type": "code",
   "execution_count": null,
   "id": "21af8553",
   "metadata": {},
   "outputs": [],
   "source": []
  },
  {
   "cell_type": "code",
   "execution_count": null,
   "id": "479dcf4f",
   "metadata": {},
   "outputs": [],
   "source": []
  },
  {
   "cell_type": "code",
   "execution_count": null,
   "id": "f5f76b31",
   "metadata": {},
   "outputs": [],
   "source": []
  },
  {
   "cell_type": "code",
   "execution_count": null,
   "id": "7ac1f83f",
   "metadata": {},
   "outputs": [],
   "source": []
  },
  {
   "cell_type": "code",
   "execution_count": null,
   "id": "5907be7d",
   "metadata": {},
   "outputs": [],
   "source": []
  },
  {
   "cell_type": "code",
   "execution_count": null,
   "id": "4e34795d",
   "metadata": {},
   "outputs": [],
   "source": []
  },
  {
   "cell_type": "code",
   "execution_count": null,
   "id": "e1089c2d",
   "metadata": {},
   "outputs": [],
   "source": []
  },
  {
   "cell_type": "code",
   "execution_count": null,
   "id": "127ae483",
   "metadata": {},
   "outputs": [],
   "source": []
  },
  {
   "cell_type": "code",
   "execution_count": null,
   "id": "84998fd7",
   "metadata": {},
   "outputs": [],
   "source": []
  },
  {
   "cell_type": "code",
   "execution_count": null,
   "id": "48368518",
   "metadata": {},
   "outputs": [],
   "source": []
  },
  {
   "cell_type": "code",
   "execution_count": null,
   "id": "a6384005",
   "metadata": {},
   "outputs": [],
   "source": []
  },
  {
   "cell_type": "code",
   "execution_count": null,
   "id": "72f0c054",
   "metadata": {},
   "outputs": [],
   "source": []
  },
  {
   "cell_type": "code",
   "execution_count": null,
   "id": "76ab085a",
   "metadata": {},
   "outputs": [],
   "source": []
  },
  {
   "cell_type": "code",
   "execution_count": null,
   "id": "f27e06cb",
   "metadata": {},
   "outputs": [],
   "source": []
  },
  {
   "cell_type": "code",
   "execution_count": null,
   "id": "9bcd1b02",
   "metadata": {},
   "outputs": [],
   "source": []
  }
 ],
 "metadata": {
  "kernelspec": {
   "display_name": "Python 3",
   "language": "python",
   "name": "python3"
  },
  "language_info": {
   "codemirror_mode": {
    "name": "ipython",
    "version": 3
   },
   "file_extension": ".py",
   "mimetype": "text/x-python",
   "name": "python",
   "nbconvert_exporter": "python",
   "pygments_lexer": "ipython3",
   "version": "3.8.11"
  }
 },
 "nbformat": 4,
 "nbformat_minor": 5
}

#
