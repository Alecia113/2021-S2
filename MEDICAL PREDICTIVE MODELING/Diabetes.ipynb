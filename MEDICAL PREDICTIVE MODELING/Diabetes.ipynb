{
 "cells": [
  {
   "cell_type": "markdown",
   "id": "a67b5845",
   "metadata": {},
   "source": [
    "# Diabetes "
   ]
  },
  {
   "cell_type": "code",
   "execution_count": 77,
   "id": "dc21aff9",
   "metadata": {},
   "outputs": [
    {
     "name": "stdout",
     "output_type": "stream",
     "text": [
      "     Pregnancies  Glucose  BloodPressure  SkinThickness  Insulin   BMI  \\\n",
      "0              6      148             72             35        0  33.6   \n",
      "1              1       85             66             29        0  26.6   \n",
      "2              8      183             64              0        0  23.3   \n",
      "3              1       89             66             23       94  28.1   \n",
      "4              0      137             40             35      168  43.1   \n",
      "..           ...      ...            ...            ...      ...   ...   \n",
      "763           10      101             76             48      180  32.9   \n",
      "764            2      122             70             27        0  36.8   \n",
      "765            5      121             72             23      112  26.2   \n",
      "766            1      126             60              0        0  30.1   \n",
      "767            1       93             70             31        0  30.4   \n",
      "\n",
      "     DiabetesPedigreeFunction  Age  Outcome  \n",
      "0                       0.627   50        1  \n",
      "1                       0.351   31        0  \n",
      "2                       0.672   32        1  \n",
      "3                       0.167   21        0  \n",
      "4                       2.288   33        1  \n",
      "..                        ...  ...      ...  \n",
      "763                     0.171   63        0  \n",
      "764                     0.340   27        0  \n",
      "765                     0.245   30        0  \n",
      "766                     0.349   47        1  \n",
      "767                     0.315   23        0  \n",
      "\n",
      "[768 rows x 9 columns]\n"
     ]
    }
   ],
   "source": [
    "import pandas as pd\n",
    "import numpy as np\n",
    "import matplotlib.pyplot as pl\n",
    "%matplotlib inline\n",
    "diabetes = pd.read_csv('diabetes.csv')\n",
    "print(diabetes)"
   ]
  },
  {
   "cell_type": "code",
   "execution_count": 2,
   "id": "a03df11d",
   "metadata": {},
   "outputs": [
    {
     "name": "stdout",
     "output_type": "stream",
     "text": [
      "Index(['Pregnancies', 'Glucose', 'BloodPressure', 'SkinThickness', 'Insulin',\n",
      "       'BMI', 'DiabetesPedigreeFunction', 'Age', 'Outcome'],\n",
      "      dtype='object')\n"
     ]
    }
   ],
   "source": [
    "print(diabetes.columns)"
   ]
  },
  {
   "cell_type": "code",
   "execution_count": 7,
   "id": "2c63d5b5",
   "metadata": {},
   "outputs": [
    {
     "data": {
      "text/html": [
       "<div>\n",
       "<style scoped>\n",
       "    .dataframe tbody tr th:only-of-type {\n",
       "        vertical-align: middle;\n",
       "    }\n",
       "\n",
       "    .dataframe tbody tr th {\n",
       "        vertical-align: top;\n",
       "    }\n",
       "\n",
       "    .dataframe thead th {\n",
       "        text-align: right;\n",
       "    }\n",
       "</style>\n",
       "<table border=\"1\" class=\"dataframe\">\n",
       "  <thead>\n",
       "    <tr style=\"text-align: right;\">\n",
       "      <th></th>\n",
       "      <th>Pregnancies</th>\n",
       "      <th>Glucose</th>\n",
       "      <th>BloodPressure</th>\n",
       "      <th>SkinThickness</th>\n",
       "      <th>Insulin</th>\n",
       "      <th>BMI</th>\n",
       "      <th>DiabetesPedigreeFunction</th>\n",
       "      <th>Age</th>\n",
       "      <th>Outcome</th>\n",
       "    </tr>\n",
       "  </thead>\n",
       "  <tbody>\n",
       "    <tr>\n",
       "      <th>0</th>\n",
       "      <td>6</td>\n",
       "      <td>148</td>\n",
       "      <td>72</td>\n",
       "      <td>35</td>\n",
       "      <td>0</td>\n",
       "      <td>33.6</td>\n",
       "      <td>0.627</td>\n",
       "      <td>50</td>\n",
       "      <td>1</td>\n",
       "    </tr>\n",
       "    <tr>\n",
       "      <th>1</th>\n",
       "      <td>1</td>\n",
       "      <td>85</td>\n",
       "      <td>66</td>\n",
       "      <td>29</td>\n",
       "      <td>0</td>\n",
       "      <td>26.6</td>\n",
       "      <td>0.351</td>\n",
       "      <td>31</td>\n",
       "      <td>0</td>\n",
       "    </tr>\n",
       "    <tr>\n",
       "      <th>2</th>\n",
       "      <td>8</td>\n",
       "      <td>183</td>\n",
       "      <td>64</td>\n",
       "      <td>0</td>\n",
       "      <td>0</td>\n",
       "      <td>23.3</td>\n",
       "      <td>0.672</td>\n",
       "      <td>32</td>\n",
       "      <td>1</td>\n",
       "    </tr>\n",
       "    <tr>\n",
       "      <th>3</th>\n",
       "      <td>1</td>\n",
       "      <td>89</td>\n",
       "      <td>66</td>\n",
       "      <td>23</td>\n",
       "      <td>94</td>\n",
       "      <td>28.1</td>\n",
       "      <td>0.167</td>\n",
       "      <td>21</td>\n",
       "      <td>0</td>\n",
       "    </tr>\n",
       "    <tr>\n",
       "      <th>4</th>\n",
       "      <td>0</td>\n",
       "      <td>137</td>\n",
       "      <td>40</td>\n",
       "      <td>35</td>\n",
       "      <td>168</td>\n",
       "      <td>43.1</td>\n",
       "      <td>2.288</td>\n",
       "      <td>33</td>\n",
       "      <td>1</td>\n",
       "    </tr>\n",
       "  </tbody>\n",
       "</table>\n",
       "</div>"
      ],
      "text/plain": [
       "   Pregnancies  Glucose  BloodPressure  SkinThickness  Insulin   BMI  \\\n",
       "0            6      148             72             35        0  33.6   \n",
       "1            1       85             66             29        0  26.6   \n",
       "2            8      183             64              0        0  23.3   \n",
       "3            1       89             66             23       94  28.1   \n",
       "4            0      137             40             35      168  43.1   \n",
       "\n",
       "   DiabetesPedigreeFunction  Age  Outcome  \n",
       "0                     0.627   50        1  \n",
       "1                     0.351   31        0  \n",
       "2                     0.672   32        1  \n",
       "3                     0.167   21        0  \n",
       "4                     2.288   33        1  "
      ]
     },
     "execution_count": 7,
     "metadata": {},
     "output_type": "execute_result"
    }
   ],
   "source": [
    "diabetes.head()  #必要的"
   ]
  },
  {
   "cell_type": "code",
   "execution_count": 6,
   "id": "e5223f5b",
   "metadata": {},
   "outputs": [
    {
     "data": {
      "text/html": [
       "<div>\n",
       "<style scoped>\n",
       "    .dataframe tbody tr th:only-of-type {\n",
       "        vertical-align: middle;\n",
       "    }\n",
       "\n",
       "    .dataframe tbody tr th {\n",
       "        vertical-align: top;\n",
       "    }\n",
       "\n",
       "    .dataframe thead th {\n",
       "        text-align: right;\n",
       "    }\n",
       "</style>\n",
       "<table border=\"1\" class=\"dataframe\">\n",
       "  <thead>\n",
       "    <tr style=\"text-align: right;\">\n",
       "      <th></th>\n",
       "      <th>Pregnancies</th>\n",
       "      <th>Glucose</th>\n",
       "      <th>BloodPressure</th>\n",
       "      <th>SkinThickness</th>\n",
       "      <th>Insulin</th>\n",
       "      <th>BMI</th>\n",
       "      <th>DiabetesPedigreeFunction</th>\n",
       "      <th>Age</th>\n",
       "      <th>Outcome</th>\n",
       "    </tr>\n",
       "  </thead>\n",
       "  <tbody>\n",
       "    <tr>\n",
       "      <th>0</th>\n",
       "      <td>6</td>\n",
       "      <td>148</td>\n",
       "      <td>72</td>\n",
       "      <td>35</td>\n",
       "      <td>0</td>\n",
       "      <td>33.6</td>\n",
       "      <td>0.627</td>\n",
       "      <td>50</td>\n",
       "      <td>1</td>\n",
       "    </tr>\n",
       "    <tr>\n",
       "      <th>1</th>\n",
       "      <td>1</td>\n",
       "      <td>85</td>\n",
       "      <td>66</td>\n",
       "      <td>29</td>\n",
       "      <td>0</td>\n",
       "      <td>26.6</td>\n",
       "      <td>0.351</td>\n",
       "      <td>31</td>\n",
       "      <td>0</td>\n",
       "    </tr>\n",
       "    <tr>\n",
       "      <th>2</th>\n",
       "      <td>8</td>\n",
       "      <td>183</td>\n",
       "      <td>64</td>\n",
       "      <td>0</td>\n",
       "      <td>0</td>\n",
       "      <td>23.3</td>\n",
       "      <td>0.672</td>\n",
       "      <td>32</td>\n",
       "      <td>1</td>\n",
       "    </tr>\n",
       "    <tr>\n",
       "      <th>3</th>\n",
       "      <td>1</td>\n",
       "      <td>89</td>\n",
       "      <td>66</td>\n",
       "      <td>23</td>\n",
       "      <td>94</td>\n",
       "      <td>28.1</td>\n",
       "      <td>0.167</td>\n",
       "      <td>21</td>\n",
       "      <td>0</td>\n",
       "    </tr>\n",
       "    <tr>\n",
       "      <th>4</th>\n",
       "      <td>0</td>\n",
       "      <td>137</td>\n",
       "      <td>40</td>\n",
       "      <td>35</td>\n",
       "      <td>168</td>\n",
       "      <td>43.1</td>\n",
       "      <td>2.288</td>\n",
       "      <td>33</td>\n",
       "      <td>1</td>\n",
       "    </tr>\n",
       "    <tr>\n",
       "      <th>...</th>\n",
       "      <td>...</td>\n",
       "      <td>...</td>\n",
       "      <td>...</td>\n",
       "      <td>...</td>\n",
       "      <td>...</td>\n",
       "      <td>...</td>\n",
       "      <td>...</td>\n",
       "      <td>...</td>\n",
       "      <td>...</td>\n",
       "    </tr>\n",
       "    <tr>\n",
       "      <th>763</th>\n",
       "      <td>10</td>\n",
       "      <td>101</td>\n",
       "      <td>76</td>\n",
       "      <td>48</td>\n",
       "      <td>180</td>\n",
       "      <td>32.9</td>\n",
       "      <td>0.171</td>\n",
       "      <td>63</td>\n",
       "      <td>0</td>\n",
       "    </tr>\n",
       "    <tr>\n",
       "      <th>764</th>\n",
       "      <td>2</td>\n",
       "      <td>122</td>\n",
       "      <td>70</td>\n",
       "      <td>27</td>\n",
       "      <td>0</td>\n",
       "      <td>36.8</td>\n",
       "      <td>0.340</td>\n",
       "      <td>27</td>\n",
       "      <td>0</td>\n",
       "    </tr>\n",
       "    <tr>\n",
       "      <th>765</th>\n",
       "      <td>5</td>\n",
       "      <td>121</td>\n",
       "      <td>72</td>\n",
       "      <td>23</td>\n",
       "      <td>112</td>\n",
       "      <td>26.2</td>\n",
       "      <td>0.245</td>\n",
       "      <td>30</td>\n",
       "      <td>0</td>\n",
       "    </tr>\n",
       "    <tr>\n",
       "      <th>766</th>\n",
       "      <td>1</td>\n",
       "      <td>126</td>\n",
       "      <td>60</td>\n",
       "      <td>0</td>\n",
       "      <td>0</td>\n",
       "      <td>30.1</td>\n",
       "      <td>0.349</td>\n",
       "      <td>47</td>\n",
       "      <td>1</td>\n",
       "    </tr>\n",
       "    <tr>\n",
       "      <th>767</th>\n",
       "      <td>1</td>\n",
       "      <td>93</td>\n",
       "      <td>70</td>\n",
       "      <td>31</td>\n",
       "      <td>0</td>\n",
       "      <td>30.4</td>\n",
       "      <td>0.315</td>\n",
       "      <td>23</td>\n",
       "      <td>0</td>\n",
       "    </tr>\n",
       "  </tbody>\n",
       "</table>\n",
       "<p>768 rows × 9 columns</p>\n",
       "</div>"
      ],
      "text/plain": [
       "     Pregnancies  Glucose  BloodPressure  SkinThickness  Insulin   BMI  \\\n",
       "0              6      148             72             35        0  33.6   \n",
       "1              1       85             66             29        0  26.6   \n",
       "2              8      183             64              0        0  23.3   \n",
       "3              1       89             66             23       94  28.1   \n",
       "4              0      137             40             35      168  43.1   \n",
       "..           ...      ...            ...            ...      ...   ...   \n",
       "763           10      101             76             48      180  32.9   \n",
       "764            2      122             70             27        0  36.8   \n",
       "765            5      121             72             23      112  26.2   \n",
       "766            1      126             60              0        0  30.1   \n",
       "767            1       93             70             31        0  30.4   \n",
       "\n",
       "     DiabetesPedigreeFunction  Age  Outcome  \n",
       "0                       0.627   50        1  \n",
       "1                       0.351   31        0  \n",
       "2                       0.672   32        1  \n",
       "3                       0.167   21        0  \n",
       "4                       2.288   33        1  \n",
       "..                        ...  ...      ...  \n",
       "763                     0.171   63        0  \n",
       "764                     0.340   27        0  \n",
       "765                     0.245   30        0  \n",
       "766                     0.349   47        1  \n",
       "767                     0.315   23        0  \n",
       "\n",
       "[768 rows x 9 columns]"
      ]
     },
     "execution_count": 6,
     "metadata": {},
     "output_type": "execute_result"
    }
   ],
   "source": [
    "diabetes"
   ]
  },
  {
   "cell_type": "code",
   "execution_count": null,
   "id": "3504a300",
   "metadata": {},
   "outputs": [],
   "source": [
    "#768 rows × 9 columns 768个数据点，9个特征"
   ]
  },
  {
   "cell_type": "code",
   "execution_count": 8,
   "id": "4169f365",
   "metadata": {},
   "outputs": [
    {
     "name": "stdout",
     "output_type": "stream",
     "text": [
      "dimension of diabetes data: (768, 9)\n"
     ]
    }
   ],
   "source": [
    "print(\"dimension of diabetes data: {}\".format(diabetes.shape))"
   ]
  },
  {
   "cell_type": "code",
   "execution_count": null,
   "id": "9e749640",
   "metadata": {},
   "outputs": [],
   "source": [
    "#“结果”是我们要预测的特征，0表示没有糖尿病，1表示糖尿病。在这768个数据点中，有500个被标记为0，而268被标记为1："
   ]
  },
  {
   "cell_type": "code",
   "execution_count": 11,
   "id": "12f2b4a2",
   "metadata": {},
   "outputs": [
    {
     "name": "stdout",
     "output_type": "stream",
     "text": [
      "Outcome\n",
      "0    500\n",
      "1    268\n",
      "dtype: int64\n"
     ]
    }
   ],
   "source": [
    "print(diabetes.groupby('Outcome').size())"
   ]
  },
  {
   "cell_type": "code",
   "execution_count": 14,
   "id": "efa8aeea",
   "metadata": {},
   "outputs": [
    {
     "name": "stderr",
     "output_type": "stream",
     "text": [
      "/Users/yys113/opt/anaconda3/lib/python3.8/site-packages/seaborn/_decorators.py:36: FutureWarning: Pass the following variable as a keyword arg: x. From version 0.12, the only valid positional argument will be `data`, and passing other arguments without an explicit keyword will result in an error or misinterpretation.\n",
      "  warnings.warn(\n"
     ]
    },
    {
     "data": {
      "text/plain": [
       "<AxesSubplot:xlabel='Outcome', ylabel='count'>"
      ]
     },
     "execution_count": 14,
     "metadata": {},
     "output_type": "execute_result"
    },
    {
     "data": {
      "image/png": "[encoded data removed]",
      "text/plain": [
       "<Figure size 432x288 with 1 Axes>"
      ]
     },
     "metadata": {
      "needs_background": "light"
     },
     "output_type": "display_data"
    }
   ],
   "source": [
    "import seaborn as sns \n",
    "sns.countplot(diabetes['Outcome'],label = \"Count\")"
   ]
  },
  {
   "cell_type": "code",
   "execution_count": 21,
   "id": "5a1f3f1a",
   "metadata": {},
   "outputs": [
    {
     "name": "stdout",
     "output_type": "stream",
     "text": [
      "Pregnancies\n",
      "0     111\n",
      "1     135\n",
      "2     103\n",
      "3      75\n",
      "4      68\n",
      "5      57\n",
      "6      50\n",
      "7      45\n",
      "8      38\n",
      "9      28\n",
      "10     24\n",
      "11     11\n",
      "12      9\n",
      "13     10\n",
      "14      2\n",
      "15      1\n",
      "17      1\n",
      "dtype: int64\n",
      "\n",
      "\n",
      "Outcome\n",
      "0    500\n",
      "1    268\n",
      "dtype: int64\n",
      "\n",
      "\n",
      "Glucose\n",
      "0      5\n",
      "44     1\n",
      "56     1\n",
      "57     2\n",
      "61     1\n",
      "      ..\n",
      "195    2\n",
      "196    3\n",
      "197    4\n",
      "198    1\n",
      "199    1\n",
      "Length: 136, dtype: int64\n",
      "\n",
      "\n",
      "BloodPressure\n",
      "0      35\n",
      "24      1\n",
      "30      2\n",
      "38      1\n",
      "40      1\n",
      "44      4\n",
      "46      2\n",
      "48      5\n",
      "50     13\n",
      "52     11\n",
      "54     11\n",
      "55      2\n",
      "56     12\n",
      "58     21\n",
      "60     37\n",
      "61      1\n",
      "62     34\n",
      "64     43\n",
      "65      7\n",
      "66     30\n",
      "68     45\n",
      "70     57\n",
      "72     44\n",
      "74     52\n",
      "75      8\n",
      "76     39\n",
      "78     45\n",
      "80     40\n",
      "82     30\n",
      "84     23\n",
      "85      6\n",
      "86     21\n",
      "88     25\n",
      "90     22\n",
      "92      8\n",
      "94      6\n",
      "95      1\n",
      "96      4\n",
      "98      3\n",
      "100     3\n",
      "102     1\n",
      "104     2\n",
      "106     3\n",
      "108     2\n",
      "110     3\n",
      "114     1\n",
      "122     1\n",
      "dtype: int64\n",
      "\n",
      "\n",
      "SkinThickness\n",
      "0     227\n",
      "7       2\n",
      "8       2\n",
      "10      5\n",
      "11      6\n",
      "12      7\n",
      "13     11\n",
      "14      6\n",
      "15     14\n",
      "16      6\n",
      "17     14\n",
      "18     20\n",
      "19     18\n",
      "20     13\n",
      "21     10\n",
      "22     16\n",
      "23     22\n",
      "24     12\n",
      "25     16\n",
      "26     16\n",
      "27     23\n",
      "28     20\n",
      "29     17\n",
      "30     27\n",
      "31     19\n",
      "32     31\n",
      "33     20\n",
      "34      8\n",
      "35     15\n",
      "36     14\n",
      "37     16\n",
      "38      7\n",
      "39     18\n",
      "40     16\n",
      "41     15\n",
      "42     11\n",
      "43      6\n",
      "44      5\n",
      "45      6\n",
      "46      8\n",
      "47      4\n",
      "48      4\n",
      "49      3\n",
      "50      3\n",
      "51      1\n",
      "52      2\n",
      "54      2\n",
      "56      1\n",
      "60      1\n",
      "63      1\n",
      "99      1\n",
      "dtype: int64\n",
      "\n",
      "\n",
      "Insulin\n",
      "0      374\n",
      "14       1\n",
      "15       1\n",
      "16       1\n",
      "18       2\n",
      "      ... \n",
      "579      1\n",
      "600      1\n",
      "680      1\n",
      "744      1\n",
      "846      1\n",
      "Length: 186, dtype: int64\n",
      "\n",
      "\n",
      "BMI\n",
      "0.0     11\n",
      "18.2     3\n",
      "18.4     1\n",
      "19.1     1\n",
      "19.3     1\n",
      "        ..\n",
      "53.2     1\n",
      "55.0     1\n",
      "57.3     1\n",
      "59.4     1\n",
      "67.1     1\n",
      "Length: 248, dtype: int64\n",
      "\n",
      "\n",
      "DiabetesPedigreeFunction\n",
      "0.078    1\n",
      "0.084    1\n",
      "0.085    2\n",
      "0.088    2\n",
      "0.089    1\n",
      "        ..\n",
      "1.893    1\n",
      "2.137    1\n",
      "2.288    1\n",
      "2.329    1\n",
      "2.420    1\n",
      "Length: 517, dtype: int64\n",
      "\n",
      "\n",
      "Age\n",
      "21    63\n",
      "22    72\n",
      "23    38\n",
      "24    46\n",
      "25    48\n",
      "26    33\n",
      "27    32\n",
      "28    35\n",
      "29    29\n",
      "30    21\n",
      "31    24\n",
      "32    16\n",
      "33    17\n",
      "34    14\n",
      "35    10\n",
      "36    16\n",
      "37    19\n",
      "38    16\n",
      "39    12\n",
      "40    13\n",
      "41    22\n",
      "42    18\n",
      "43    13\n",
      "44     8\n",
      "45    15\n",
      "46    13\n",
      "47     6\n",
      "48     5\n",
      "49     5\n",
      "50     8\n",
      "51     8\n",
      "52     8\n",
      "53     5\n",
      "54     6\n",
      "55     4\n",
      "56     3\n",
      "57     5\n",
      "58     7\n",
      "59     3\n",
      "60     5\n",
      "61     2\n",
      "62     4\n",
      "63     4\n",
      "64     1\n",
      "65     3\n",
      "66     4\n",
      "67     3\n",
      "68     1\n",
      "69     2\n",
      "70     1\n",
      "72     1\n",
      "81     1\n",
      "dtype: int64\n"
     ]
    }
   ],
   "source": [
    "print(diabetes.groupby('Pregnancies').size())  #怀孕\n",
    "print('\\n')\n",
    "print(diabetes.groupby('Outcome').size())\n",
    "print('\\n')\n",
    "print(diabetes.groupby('Glucose').size())  #糖尿病\n",
    "print('\\n')\n",
    "print(diabetes.groupby('BloodPressure').size()) #血压\n",
    "print('\\n')\n",
    "print(diabetes.groupby('SkinThickness').size())  #皮肤厚度\n",
    "print('\\n')\n",
    "print(diabetes.groupby('Insulin').size())#胰岛素\n",
    "print('\\n')\n",
    "print(diabetes.groupby('BMI').size())   #BMI指数\n",
    "print('\\n')\n",
    "print(diabetes.groupby('DiabetesPedigreeFunction').size())  #糖尿病血统功能\n",
    "print('\\n')\n",
    "print(diabetes.groupby('Age').size())\n"
   ]
  },
  {
   "cell_type": "code",
   "execution_count": 22,
   "id": "2b0c3104",
   "metadata": {},
   "outputs": [
    {
     "name": "stdout",
     "output_type": "stream",
     "text": [
      "<class 'pandas.core.frame.DataFrame'>\n",
      "RangeIndex: 768 entries, 0 to 767\n",
      "Data columns (total 9 columns):\n",
      " #   Column                    Non-Null Count  Dtype  \n",
      "---  ------                    --------------  -----  \n",
      " 0   Pregnancies               768 non-null    int64  \n",
      " 1   Glucose                   768 non-null    int64  \n",
      " 2   BloodPressure             768 non-null    int64  \n",
      " 3   SkinThickness             768 non-null    int64  \n",
      " 4   Insulin                   768 non-null    int64  \n",
      " 5   BMI                       768 non-null    float64\n",
      " 6   DiabetesPedigreeFunction  768 non-null    float64\n",
      " 7   Age                       768 non-null    int64  \n",
      " 8   Outcome                   768 non-null    int64  \n",
      "dtypes: float64(2), int64(7)\n",
      "memory usage: 54.1 KB\n"
     ]
    }
   ],
   "source": [
    "diabetes.info()   #整个csv信息。"
   ]
  },
  {
   "cell_type": "code",
   "execution_count": 23,
   "id": "8b78f223",
   "metadata": {},
   "outputs": [
    {
     "name": "stderr",
     "output_type": "stream",
     "text": [
      "/Users/yys113/opt/anaconda3/lib/python3.8/site-packages/seaborn/_decorators.py:36: FutureWarning: Pass the following variable as a keyword arg: x. From version 0.12, the only valid positional argument will be `data`, and passing other arguments without an explicit keyword will result in an error or misinterpretation.\n",
      "  warnings.warn(\n"
     ]
    },
    {
     "data": {
      "text/plain": [
       "<AxesSubplot:xlabel='Pregnancies', ylabel='count'>"
      ]
     },
     "execution_count": 23,
     "metadata": {},
     "output_type": "execute_result"
    },
    {
     "data": {
      "image/png": "[encoded data removed]",
      "text/plain": [
       "<Figure size 432x288 with 1 Axes>"
      ]
     },
     "metadata": {
      "needs_background": "light"
     },
     "output_type": "display_data"
    }
   ],
   "source": [
    "sns.countplot(diabetes['Pregnancies'],label = \"Count\")"
   ]
  },
  {
   "cell_type": "code",
   "execution_count": 43,
   "id": "33d5ab78",
   "metadata": {},
   "outputs": [],
   "source": [
    "#KNN来进行预测糖尿病diabetes\n",
    "from sklearn.model_selection import train_test_split\n",
    "X_train, X_test, y_train, y_test = train_test_split(diabetes.loc\\\n",
    "                [:,diabetes.columns != 'Outcome'],diabetes['Outcome'],\\\n",
    "                stratify = diabetes['Outcome'], random_state = 66)"
   ]
  },
  {
   "cell_type": "code",
   "execution_count": 44,
   "id": "6bc82b32",
   "metadata": {},
   "outputs": [
    {
     "name": "stdout",
     "output_type": "stream",
     "text": [
      "     Pregnancies  Glucose  BloodPressure  SkinThickness  Insulin   BMI  \\\n",
      "612            7      168             88             42      321  38.2   \n",
      "557            8      110             76              0        0  27.8   \n",
      "26             7      147             76              0        0  39.4   \n",
      "70             2      100             66             20       90  32.9   \n",
      "73             4      129             86             20      270  35.1   \n",
      "..           ...      ...            ...            ...      ...   ...   \n",
      "632            2      111             60              0        0  26.2   \n",
      "56             7      187             68             39      304  37.7   \n",
      "530            2      122             60             18      106  29.8   \n",
      "568            4      154             72             29      126  31.3   \n",
      "544            1       88             78             29       76  32.0   \n",
      "\n",
      "     DiabetesPedigreeFunction  Age  \n",
      "612                     0.787   40  \n",
      "557                     0.237   58  \n",
      "26                      0.257   43  \n",
      "70                      0.867   28  \n",
      "73                      0.231   23  \n",
      "..                        ...  ...  \n",
      "632                     0.343   23  \n",
      "56                      0.254   41  \n",
      "530                     0.717   22  \n",
      "568                     0.338   37  \n",
      "544                     0.365   29  \n",
      "\n",
      "[576 rows x 8 columns]\n"
     ]
    }
   ],
   "source": [
    "print(X_train)#576"
   ]
  },
  {
   "cell_type": "code",
   "execution_count": 48,
   "id": "67214dc2",
   "metadata": {},
   "outputs": [
    {
     "name": "stdout",
     "output_type": "stream",
     "text": [
      "     Pregnancies  Glucose  BloodPressure  SkinThickness  Insulin   BMI  \\\n",
      "506            0      180             90             26       90  36.5   \n",
      "709            2       93             64             32      160  38.0   \n",
      "257            2      114             68             22        0  28.7   \n",
      "518           13       76             60              0        0  32.8   \n",
      "432            1       80             74             11       60  30.0   \n",
      "..           ...      ...            ...            ...      ...   ...   \n",
      "143           10      108             66              0        0  32.4   \n",
      "686            3      130             64              0        0  23.1   \n",
      "681            0      162             76             36        0  49.6   \n",
      "510           12       84             72             31        0  29.7   \n",
      "426            0       94              0              0        0   0.0   \n",
      "\n",
      "     DiabetesPedigreeFunction  Age  \n",
      "506                     0.314   35  \n",
      "709                     0.674   23  \n",
      "257                     0.092   25  \n",
      "518                     0.180   41  \n",
      "432                     0.527   22  \n",
      "..                        ...  ...  \n",
      "143                     0.272   42  \n",
      "686                     0.314   22  \n",
      "681                     0.364   26  \n",
      "510                     0.297   46  \n",
      "426                     0.256   25  \n",
      "\n",
      "[192 rows x 8 columns]\n"
     ]
    }
   ],
   "source": [
    "print(X_test) #192"
   ]
  },
  {
   "cell_type": "code",
   "execution_count": 49,
   "id": "f8183d69",
   "metadata": {},
   "outputs": [
    {
     "name": "stdout",
     "output_type": "stream",
     "text": [
      "612    1\n",
      "557    0\n",
      "26     1\n",
      "70     1\n",
      "73     0\n",
      "      ..\n",
      "632    0\n",
      "56     1\n",
      "530    0\n",
      "568    0\n",
      "544    0\n",
      "Name: Outcome, Length: 576, dtype: int64\n"
     ]
    }
   ],
   "source": [
    "print(y_train)#Length: 576,"
   ]
  },
  {
   "cell_type": "code",
   "execution_count": 50,
   "id": "4b0f5f5d",
   "metadata": {},
   "outputs": [
    {
     "name": "stdout",
     "output_type": "stream",
     "text": [
      "506    1\n",
      "709    1\n",
      "257    0\n",
      "518    0\n",
      "432    0\n",
      "      ..\n",
      "143    1\n",
      "686    0\n",
      "681    1\n",
      "510    1\n",
      "426    0\n",
      "Name: Outcome, Length: 192, dtype: int64\n"
     ]
    }
   ],
   "source": [
    "print(y_test)# Length: 192,"
   ]
  },
  {
   "cell_type": "code",
   "execution_count": 24,
   "id": "eccb625d",
   "metadata": {},
   "outputs": [
    {
     "data": {
      "text/plain": [
       "0      1\n",
       "1      0\n",
       "2      1\n",
       "3      0\n",
       "4      1\n",
       "      ..\n",
       "763    0\n",
       "764    0\n",
       "765    0\n",
       "766    1\n",
       "767    0\n",
       "Name: Outcome, Length: 768, dtype: int64"
      ]
     },
     "execution_count": 24,
     "metadata": {},
     "output_type": "execute_result"
    }
   ],
   "source": [
    "diabetes['Outcome']  #看一共多少数据"
   ]
  },
  {
   "cell_type": "code",
   "execution_count": 26,
   "id": "bc29c8e2",
   "metadata": {},
   "outputs": [
    {
     "data": {
      "text/plain": [
       "array([ True,  True,  True,  True,  True,  True,  True,  True, False])"
      ]
     },
     "execution_count": 26,
     "metadata": {},
     "output_type": "execute_result"
    }
   ],
   "source": [
    "diabetes.columns != 'Outcome' #直接看真假。对错。 "
   ]
  },
  {
   "cell_type": "code",
   "execution_count": 28,
   "id": "1c65e36d",
   "metadata": {},
   "outputs": [
    {
     "data": {
      "text/plain": [
       "0      1\n",
       "1      0\n",
       "2      1\n",
       "3      0\n",
       "4      1\n",
       "      ..\n",
       "763    0\n",
       "764    0\n",
       "765    0\n",
       "766    1\n",
       "767    0\n",
       "Name: Outcome, Length: 768, dtype: int64"
      ]
     },
     "execution_count": 28,
     "metadata": {},
     "output_type": "execute_result"
    }
   ],
   "source": [
    "stratify = diabetes['Outcome']\n",
    "stratify#分层"
   ]
  },
  {
   "cell_type": "code",
   "execution_count": 30,
   "id": "5a83ffb3",
   "metadata": {},
   "outputs": [
    {
     "data": {
      "text/plain": [
       "66"
      ]
     },
     "execution_count": 30,
     "metadata": {},
     "output_type": "execute_result"
    }
   ],
   "source": [
    "random_state = 66\n",
    "random_state"
   ]
  },
  {
   "cell_type": "code",
   "execution_count": null,
   "id": "260d6c98",
   "metadata": {},
   "outputs": [],
   "source": [
    "#分"
   ]
  },
  {
   "cell_type": "code",
   "execution_count": 92,
   "id": "cc3fd38e",
   "metadata": {},
   "outputs": [],
   "source": [
    "#KNN来进行预测糖尿病diabetes\n",
    "from sklearn.model_selection import train_test_split\n",
    "X_train, X_test, y_train, y_test = train_test_split(diabetes.loc\\\n",
    "                [:,diabetes.columns != 'Outcome'],diabetes['Outcome'],\\\n",
    "                stratify = diabetes['Outcome'], random_state = 20)"
   ]
  },
  {
   "cell_type": "code",
   "execution_count": 93,
   "id": "672b700d",
   "metadata": {},
   "outputs": [
    {
     "data": {
      "text/html": [
       "<div>\n",
       "<style scoped>\n",
       "    .dataframe tbody tr th:only-of-type {\n",
       "        vertical-align: middle;\n",
       "    }\n",
       "\n",
       "    .dataframe tbody tr th {\n",
       "        vertical-align: top;\n",
       "    }\n",
       "\n",
       "    .dataframe thead th {\n",
       "        text-align: right;\n",
       "    }\n",
       "</style>\n",
       "<table border=\"1\" class=\"dataframe\">\n",
       "  <thead>\n",
       "    <tr style=\"text-align: right;\">\n",
       "      <th></th>\n",
       "      <th>Pregnancies</th>\n",
       "      <th>Glucose</th>\n",
       "      <th>BloodPressure</th>\n",
       "      <th>SkinThickness</th>\n",
       "      <th>Insulin</th>\n",
       "      <th>BMI</th>\n",
       "      <th>DiabetesPedigreeFunction</th>\n",
       "      <th>Age</th>\n",
       "    </tr>\n",
       "  </thead>\n",
       "  <tbody>\n",
       "    <tr>\n",
       "      <th>0</th>\n",
       "      <td>6</td>\n",
       "      <td>148</td>\n",
       "      <td>72</td>\n",
       "      <td>35</td>\n",
       "      <td>0</td>\n",
       "      <td>33.6</td>\n",
       "      <td>0.627</td>\n",
       "      <td>50</td>\n",
       "    </tr>\n",
       "    <tr>\n",
       "      <th>1</th>\n",
       "      <td>1</td>\n",
       "      <td>85</td>\n",
       "      <td>66</td>\n",
       "      <td>29</td>\n",
       "      <td>0</td>\n",
       "      <td>26.6</td>\n",
       "      <td>0.351</td>\n",
       "      <td>31</td>\n",
       "    </tr>\n",
       "    <tr>\n",
       "      <th>2</th>\n",
       "      <td>8</td>\n",
       "      <td>183</td>\n",
       "      <td>64</td>\n",
       "      <td>0</td>\n",
       "      <td>0</td>\n",
       "      <td>23.3</td>\n",
       "      <td>0.672</td>\n",
       "      <td>32</td>\n",
       "    </tr>\n",
       "    <tr>\n",
       "      <th>3</th>\n",
       "      <td>1</td>\n",
       "      <td>89</td>\n",
       "      <td>66</td>\n",
       "      <td>23</td>\n",
       "      <td>94</td>\n",
       "      <td>28.1</td>\n",
       "      <td>0.167</td>\n",
       "      <td>21</td>\n",
       "    </tr>\n",
       "    <tr>\n",
       "      <th>4</th>\n",
       "      <td>0</td>\n",
       "      <td>137</td>\n",
       "      <td>40</td>\n",
       "      <td>35</td>\n",
       "      <td>168</td>\n",
       "      <td>43.1</td>\n",
       "      <td>2.288</td>\n",
       "      <td>33</td>\n",
       "    </tr>\n",
       "    <tr>\n",
       "      <th>...</th>\n",
       "      <td>...</td>\n",
       "      <td>...</td>\n",
       "      <td>...</td>\n",
       "      <td>...</td>\n",
       "      <td>...</td>\n",
       "      <td>...</td>\n",
       "      <td>...</td>\n",
       "      <td>...</td>\n",
       "    </tr>\n",
       "    <tr>\n",
       "      <th>763</th>\n",
       "      <td>10</td>\n",
       "      <td>101</td>\n",
       "      <td>76</td>\n",
       "      <td>48</td>\n",
       "      <td>180</td>\n",
       "      <td>32.9</td>\n",
       "      <td>0.171</td>\n",
       "      <td>63</td>\n",
       "    </tr>\n",
       "    <tr>\n",
       "      <th>764</th>\n",
       "      <td>2</td>\n",
       "      <td>122</td>\n",
       "      <td>70</td>\n",
       "      <td>27</td>\n",
       "      <td>0</td>\n",
       "      <td>36.8</td>\n",
       "      <td>0.340</td>\n",
       "      <td>27</td>\n",
       "    </tr>\n",
       "    <tr>\n",
       "      <th>765</th>\n",
       "      <td>5</td>\n",
       "      <td>121</td>\n",
       "      <td>72</td>\n",
       "      <td>23</td>\n",
       "      <td>112</td>\n",
       "      <td>26.2</td>\n",
       "      <td>0.245</td>\n",
       "      <td>30</td>\n",
       "    </tr>\n",
       "    <tr>\n",
       "      <th>766</th>\n",
       "      <td>1</td>\n",
       "      <td>126</td>\n",
       "      <td>60</td>\n",
       "      <td>0</td>\n",
       "      <td>0</td>\n",
       "      <td>30.1</td>\n",
       "      <td>0.349</td>\n",
       "      <td>47</td>\n",
       "    </tr>\n",
       "    <tr>\n",
       "      <th>767</th>\n",
       "      <td>1</td>\n",
       "      <td>93</td>\n",
       "      <td>70</td>\n",
       "      <td>31</td>\n",
       "      <td>0</td>\n",
       "      <td>30.4</td>\n",
       "      <td>0.315</td>\n",
       "      <td>23</td>\n",
       "    </tr>\n",
       "  </tbody>\n",
       "</table>\n",
       "<p>768 rows × 8 columns</p>\n",
       "</div>"
      ],
      "text/plain": [
       "     Pregnancies  Glucose  BloodPressure  SkinThickness  Insulin   BMI  \\\n",
       "0              6      148             72             35        0  33.6   \n",
       "1              1       85             66             29        0  26.6   \n",
       "2              8      183             64              0        0  23.3   \n",
       "3              1       89             66             23       94  28.1   \n",
       "4              0      137             40             35      168  43.1   \n",
       "..           ...      ...            ...            ...      ...   ...   \n",
       "763           10      101             76             48      180  32.9   \n",
       "764            2      122             70             27        0  36.8   \n",
       "765            5      121             72             23      112  26.2   \n",
       "766            1      126             60              0        0  30.1   \n",
       "767            1       93             70             31        0  30.4   \n",
       "\n",
       "     DiabetesPedigreeFunction  Age  \n",
       "0                       0.627   50  \n",
       "1                       0.351   31  \n",
       "2                       0.672   32  \n",
       "3                       0.167   21  \n",
       "4                       2.288   33  \n",
       "..                        ...  ...  \n",
       "763                     0.171   63  \n",
       "764                     0.340   27  \n",
       "765                     0.245   30  \n",
       "766                     0.349   47  \n",
       "767                     0.315   23  \n",
       "\n",
       "[768 rows x 8 columns]"
      ]
     },
     "execution_count": 93,
     "metadata": {},
     "output_type": "execute_result"
    }
   ],
   "source": [
    "diabetes.loc[:,diabetes.columns != 'Outcome']  #把前面非outcome的都取出来。"
   ]
  },
  {
   "cell_type": "code",
   "execution_count": 94,
   "id": "7bfdf0cc",
   "metadata": {},
   "outputs": [
    {
     "data": {
      "text/plain": [
       "0      1\n",
       "1      0\n",
       "2      1\n",
       "3      0\n",
       "4      1\n",
       "      ..\n",
       "763    0\n",
       "764    0\n",
       "765    0\n",
       "766    1\n",
       "767    0\n",
       "Name: Outcome, Length: 768, dtype: int64"
      ]
     },
     "execution_count": 94,
     "metadata": {},
     "output_type": "execute_result"
    }
   ],
   "source": [
    "diabetes['Outcome']  #单独取出来outcome"
   ]
  },
  {
   "cell_type": "code",
   "execution_count": 95,
   "id": "f7f99938",
   "metadata": {},
   "outputs": [
    {
     "name": "stdout",
     "output_type": "stream",
     "text": [
      "1\n",
      "KNeighborsClassifier(n_neighbors=1)\n",
      "[1.0]\n",
      "[0.7239583333333334]\n",
      "2\n",
      "KNeighborsClassifier(n_neighbors=2)\n",
      "[1.0, 0.8315972222222222]\n",
      "[0.7239583333333334, 0.7447916666666666]\n",
      "3\n",
      "KNeighborsClassifier(n_neighbors=3)\n",
      "[1.0, 0.8315972222222222, 0.8315972222222222]\n",
      "[0.7239583333333334, 0.7447916666666666, 0.7135416666666666]\n",
      "4\n",
      "KNeighborsClassifier(n_neighbors=4)\n",
      "[1.0, 0.8315972222222222, 0.8315972222222222, 0.7934027777777778]\n",
      "[0.7239583333333334, 0.7447916666666666, 0.7135416666666666, 0.734375]\n",
      "5\n",
      "KNeighborsClassifier()\n",
      "[1.0, 0.8315972222222222, 0.8315972222222222, 0.7934027777777778, 0.7847222222222222]\n",
      "[0.7239583333333334, 0.7447916666666666, 0.7135416666666666, 0.734375, 0.7395833333333334]\n",
      "6\n",
      "KNeighborsClassifier(n_neighbors=6)\n",
      "[1.0, 0.8315972222222222, 0.8315972222222222, 0.7934027777777778, 0.7847222222222222, 0.7777777777777778]\n",
      "[0.7239583333333334, 0.7447916666666666, 0.7135416666666666, 0.734375, 0.7395833333333334, 0.7552083333333334]\n",
      "7\n",
      "KNeighborsClassifier(n_neighbors=7)\n",
      "[1.0, 0.8315972222222222, 0.8315972222222222, 0.7934027777777778, 0.7847222222222222, 0.7777777777777778, 0.7847222222222222]\n",
      "[0.7239583333333334, 0.7447916666666666, 0.7135416666666666, 0.734375, 0.7395833333333334, 0.7552083333333334, 0.75]\n",
      "8\n",
      "KNeighborsClassifier(n_neighbors=8)\n",
      "[1.0, 0.8315972222222222, 0.8315972222222222, 0.7934027777777778, 0.7847222222222222, 0.7777777777777778, 0.7847222222222222, 0.7673611111111112]\n",
      "[0.7239583333333334, 0.7447916666666666, 0.7135416666666666, 0.734375, 0.7395833333333334, 0.7552083333333334, 0.75, 0.734375]\n",
      "9\n",
      "KNeighborsClassifier(n_neighbors=9)\n",
      "[1.0, 0.8315972222222222, 0.8315972222222222, 0.7934027777777778, 0.7847222222222222, 0.7777777777777778, 0.7847222222222222, 0.7673611111111112, 0.7708333333333334]\n",
      "[0.7239583333333334, 0.7447916666666666, 0.7135416666666666, 0.734375, 0.7395833333333334, 0.7552083333333334, 0.75, 0.734375, 0.7552083333333334]\n",
      "10\n",
      "KNeighborsClassifier(n_neighbors=10)\n",
      "[1.0, 0.8315972222222222, 0.8315972222222222, 0.7934027777777778, 0.7847222222222222, 0.7777777777777778, 0.7847222222222222, 0.7673611111111112, 0.7708333333333334, 0.7621527777777778]\n",
      "[0.7239583333333334, 0.7447916666666666, 0.7135416666666666, 0.734375, 0.7395833333333334, 0.7552083333333334, 0.75, 0.734375, 0.7552083333333334, 0.7552083333333334]\n"
     ]
    }
   ],
   "source": [
    "from sklearn.neighbors import KNeighborsClassifier\n",
    "training_accuracy = [] \n",
    "test_accuracy = []\n",
    "#然后跑一波1-10的k\n",
    "\n",
    "K = range(1,11)\n",
    "#建立模型，在for内\n",
    "for k in K:   \n",
    "    knn = KNeighborsClassifier(n_neighbors= k)\n",
    "    knn.fit(X_train, y_train)\n",
    "    \n",
    "    training_accuracy.append(knn.score(X_train, y_train))\n",
    "    \n",
    "    test_accuracy.append(knn.score(X_test, y_test))\n",
    "    print(k)\n",
    "    print(knn)\n",
    "    print(training_accuracy)\n",
    "    print(test_accuracy)"
   ]
  },
  {
   "cell_type": "code",
   "execution_count": 96,
   "id": "6b7f8c2c",
   "metadata": {},
   "outputs": [
    {
     "data": {
      "image/png": "[encoded data removed]",
      "text/plain": [
       "<Figure size 432x288 with 1 Axes>"
      ]
     },
     "metadata": {
      "needs_background": "light"
     },
     "output_type": "display_data"
    }
   ],
   "source": [
    "pl.plot(K,training_accuracy, label = \"Accuracy of training\")\n",
    "pl.plot(K,test_accuracy, label = \"Accuracy of test\")\n",
    "pl.xlabel(\"K\");pl.ylabel(\"Accuracy\")\n",
    "pl.legend()\n",
    "pl.show()"
   ]
  },
  {
   "cell_type": "code",
   "execution_count": null,
   "id": "ac64c8e7",
   "metadata": {},
   "outputs": [],
   "source": [
    "#看分类的准确性。"
   ]
  },
  {
   "cell_type": "code",
   "execution_count": 97,
   "id": "6299c06b",
   "metadata": {},
   "outputs": [
    {
     "name": "stdout",
     "output_type": "stream",
     "text": [
      "Accuracy of KNN classifier on train dataset: 0.76\n",
      "Accuracy of KNN classifier on test dataset: 0.76\n"
     ]
    }
   ],
   "source": [
    "Knn = KNeighborsClassifier(n_neighbors = 9)\n",
    "knn.fit(X_train, y_train) \n",
    "print('Accuracy of KNN classifier on train dataset: %.2f'%(knn.score(X_train, y_train)))\n",
    "print('Accuracy of KNN classifier on test dataset: %.2f'%(knn.score(X_test, y_test)))\n"
   ]
  },
  {
   "cell_type": "code",
   "execution_count": null,
   "id": "02051149",
   "metadata": {},
   "outputs": [],
   "source": [
    "# 训练集上__的K-NN分类器的准确性_：0.76\n",
    "# 训练集上的K-NN分类器的准确性：0.76"
   ]
  },
  {
   "cell_type": "code",
   "execution_count": null,
   "id": "bafb409f",
   "metadata": {},
   "outputs": [],
   "source": []
  },
  {
   "cell_type": "code",
   "execution_count": null,
   "id": "1c686927",
   "metadata": {},
   "outputs": [],
   "source": []
  }
 ],
 "metadata": {
  "kernelspec": {
   "display_name": "Python 3",
   "language": "python",
   "name": "python3"
  },
  "language_info": {
   "codemirror_mode": {
    "name": "ipython",
    "version": 3
   },
   "file_extension": ".py",
   "mimetype": "text/x-python",
   "name": "python",
   "nbconvert_exporter": "python",
   "pygments_lexer": "ipython3",
   "version": "3.8.11"
  }
 },
 "nbformat": 4,
 "nbformat_minor": 5
}
